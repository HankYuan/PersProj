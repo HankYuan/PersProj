{
 "cells": [
  {
   "cell_type": "code",
   "execution_count": 1,
   "metadata": {},
   "outputs": [],
   "source": [
    "import pandas as pd"
   ]
  },
  {
   "cell_type": "code",
   "execution_count": 2,
   "metadata": {},
   "outputs": [],
   "source": [
    "import numpy as np"
   ]
  },
  {
   "cell_type": "code",
   "execution_count": 3,
   "metadata": {},
   "outputs": [],
   "source": [
    "#adjust max_columns"
   ]
  },
  {
   "cell_type": "code",
   "execution_count": 4,
   "metadata": {},
   "outputs": [],
   "source": [
    "pd.options.display.max_columns = 50"
   ]
  },
  {
   "cell_type": "code",
   "execution_count": 5,
   "metadata": {},
   "outputs": [],
   "source": [
    "#load data"
   ]
  },
  {
   "cell_type": "code",
   "execution_count": 2618,
   "metadata": {},
   "outputs": [],
   "source": [
    "df1 = pd.read_excel('./课题数据/基本信息.xls')"
   ]
  },
  {
   "cell_type": "code",
   "execution_count": 7,
   "metadata": {},
   "outputs": [],
   "source": [
    "df2 = pd.read_excel('./课题数据/实验室胚胎移植记录结果.xls')"
   ]
  },
  {
   "cell_type": "code",
   "execution_count": 28,
   "metadata": {},
   "outputs": [],
   "source": [
    "df3 = pd.read_excel('./课题数据/检查检验结果2.xls')"
   ]
  },
  {
   "cell_type": "code",
   "execution_count": 2526,
   "metadata": {},
   "outputs": [],
   "source": [
    "df4 = pd.read_excel('./课题数据/按身份证关联_产科分娩信息+高危.xlsx')"
   ]
  },
  {
   "cell_type": "code",
   "execution_count": null,
   "metadata": {
    "collapsed": true
   },
   "outputs": [],
   "source": [
    "#rename columns"
   ]
  },
  {
   "cell_type": "code",
   "execution_count": 2619,
   "metadata": {},
   "outputs": [],
   "source": [
    "df1 = df1.rename(columns={'病案号':'IVF编号'})"
   ]
  },
  {
   "cell_type": "code",
   "execution_count": 29,
   "metadata": {},
   "outputs": [],
   "source": [
    "df3 = df3.rename(columns={'ivf编号':'IVF编号'})"
   ]
  },
  {
   "cell_type": "markdown",
   "metadata": {},
   "source": [
    "### 对【基本信息表】进行处理"
   ]
  },
  {
   "cell_type": "code",
   "execution_count": null,
   "metadata": {},
   "outputs": [],
   "source": [
    "#1.去重与合并"
   ]
  },
  {
   "cell_type": "code",
   "execution_count": 2620,
   "metadata": {},
   "outputs": [],
   "source": [
    "df1['孕育史'] = df1['孕育史'].apply(str) #填充NA方便分组内字符串的合并"
   ]
  },
  {
   "cell_type": "code",
   "execution_count": 2621,
   "metadata": {},
   "outputs": [],
   "source": [
    "#按照IVF编号分组，对每个分组合并诊断和孕育史字符串\n",
    "strConcatPerIVF = df1[['IVF编号', '诊断','孕育史']].groupby('IVF编号')['诊断'].apply(lambda x: ', '.join(x)).reset_index()"
   ]
  },
  {
   "cell_type": "code",
   "execution_count": 2622,
   "metadata": {
    "scrolled": true
   },
   "outputs": [],
   "source": [
    "strConcatPerIVF['孕育史'] = df1[['IVF编号', '诊断','孕育史']].groupby('IVF编号')['孕育史']\\\n",
    "                            .apply(lambda x: ', '.join(x)).reset_index(drop=True)\n",
    "#按照IVF编号分组，对每个分组合并诊断和孕育史字符串"
   ]
  },
  {
   "cell_type": "code",
   "execution_count": 2623,
   "metadata": {},
   "outputs": [],
   "source": [
    "df1_pro = df1[['IVF编号','女方姓名','女方生日','男方姓名','男方生日']].drop_duplicates().merge(strConcatPerIVF, on='IVF编号', how='left')\n",
    "#只选出以上五项内容进行去重，合并诊断和孕育史信息"
   ]
  },
  {
   "cell_type": "code",
   "execution_count": 2626,
   "metadata": {},
   "outputs": [
    {
     "data": {
      "text/html": [
       "<div>\n",
       "<style scoped>\n",
       "    .dataframe tbody tr th:only-of-type {\n",
       "        vertical-align: middle;\n",
       "    }\n",
       "\n",
       "    .dataframe tbody tr th {\n",
       "        vertical-align: top;\n",
       "    }\n",
       "\n",
       "    .dataframe thead th {\n",
       "        text-align: right;\n",
       "    }\n",
       "</style>\n",
       "<table border=\"1\" class=\"dataframe\">\n",
       "  <thead>\n",
       "    <tr style=\"text-align: right;\">\n",
       "      <th></th>\n",
       "      <th>IVF编号</th>\n",
       "      <th>女方姓名</th>\n",
       "      <th>女方生日</th>\n",
       "      <th>男方姓名</th>\n",
       "      <th>男方生日</th>\n",
       "      <th>诊断</th>\n",
       "      <th>孕育史</th>\n",
       "    </tr>\n",
       "  </thead>\n",
       "  <tbody>\n",
       "    <tr>\n",
       "      <th>count</th>\n",
       "      <td>8771</td>\n",
       "      <td>8752</td>\n",
       "      <td>8746</td>\n",
       "      <td>8752</td>\n",
       "      <td>8751</td>\n",
       "      <td>8771</td>\n",
       "      <td>8771</td>\n",
       "    </tr>\n",
       "    <tr>\n",
       "      <th>unique</th>\n",
       "      <td>8770</td>\n",
       "      <td>7919</td>\n",
       "      <td>4777</td>\n",
       "      <td>8116</td>\n",
       "      <td>5085</td>\n",
       "      <td>143</td>\n",
       "      <td>126</td>\n",
       "    </tr>\n",
       "    <tr>\n",
       "      <th>top</th>\n",
       "      <td>17-1756</td>\n",
       "      <td>张婷</td>\n",
       "      <td>1984-01-01 00:00:00</td>\n",
       "      <td>张俊</td>\n",
       "      <td>1978-01-01 00:00:00</td>\n",
       "      <td>,,,</td>\n",
       "      <td>0-0-0-0</td>\n",
       "    </tr>\n",
       "    <tr>\n",
       "      <th>freq</th>\n",
       "      <td>2</td>\n",
       "      <td>12</td>\n",
       "      <td>22</td>\n",
       "      <td>9</td>\n",
       "      <td>16</td>\n",
       "      <td>3354</td>\n",
       "      <td>4530</td>\n",
       "    </tr>\n",
       "    <tr>\n",
       "      <th>first</th>\n",
       "      <td>NaN</td>\n",
       "      <td>NaN</td>\n",
       "      <td>1963-05-25 00:00:00</td>\n",
       "      <td>NaN</td>\n",
       "      <td>1900-01-01 00:00:00</td>\n",
       "      <td>NaN</td>\n",
       "      <td>NaN</td>\n",
       "    </tr>\n",
       "    <tr>\n",
       "      <th>last</th>\n",
       "      <td>NaN</td>\n",
       "      <td>NaN</td>\n",
       "      <td>1997-09-16 00:00:00</td>\n",
       "      <td>NaN</td>\n",
       "      <td>1999-05-13 00:00:00</td>\n",
       "      <td>NaN</td>\n",
       "      <td>NaN</td>\n",
       "    </tr>\n",
       "  </tbody>\n",
       "</table>\n",
       "</div>"
      ],
      "text/plain": [
       "          IVF编号  女方姓名                 女方生日  男方姓名                 男方生日    诊断  \\\n",
       "count      8771  8752                 8746  8752                 8751  8771   \n",
       "unique     8770  7919                 4777  8116                 5085   143   \n",
       "top     17-1756    张婷  1984-01-01 00:00:00    张俊  1978-01-01 00:00:00   ,,,   \n",
       "freq          2    12                   22     9                   16  3354   \n",
       "first       NaN   NaN  1963-05-25 00:00:00   NaN  1900-01-01 00:00:00   NaN   \n",
       "last        NaN   NaN  1997-09-16 00:00:00   NaN  1999-05-13 00:00:00   NaN   \n",
       "\n",
       "            孕育史  \n",
       "count      8771  \n",
       "unique      126  \n",
       "top     0-0-0-0  \n",
       "freq       4530  \n",
       "first       NaN  \n",
       "last        NaN  "
      ]
     },
     "execution_count": 2626,
     "metadata": {},
     "output_type": "execute_result"
    }
   ],
   "source": [
    "df1_pro.describe()\n",
    "#发现得到的表格行数大于IVF编号数目，即有部分重复的IVF未去重\n",
    "#该人的IVF为17-1756"
   ]
  },
  {
   "cell_type": "code",
   "execution_count": 2627,
   "metadata": {},
   "outputs": [
    {
     "data": {
      "text/html": [
       "<div>\n",
       "<style scoped>\n",
       "    .dataframe tbody tr th:only-of-type {\n",
       "        vertical-align: middle;\n",
       "    }\n",
       "\n",
       "    .dataframe tbody tr th {\n",
       "        vertical-align: top;\n",
       "    }\n",
       "\n",
       "    .dataframe thead th {\n",
       "        text-align: right;\n",
       "    }\n",
       "</style>\n",
       "<table border=\"1\" class=\"dataframe\">\n",
       "  <thead>\n",
       "    <tr style=\"text-align: right;\">\n",
       "      <th></th>\n",
       "      <th>IVF编号</th>\n",
       "      <th>女方姓名</th>\n",
       "      <th>女方生日</th>\n",
       "      <th>男方姓名</th>\n",
       "      <th>男方生日</th>\n",
       "      <th>诊断</th>\n",
       "      <th>孕育史</th>\n",
       "    </tr>\n",
       "  </thead>\n",
       "  <tbody>\n",
       "    <tr>\n",
       "      <th>7257</th>\n",
       "      <td>17-1756</td>\n",
       "      <td>阳敬宇</td>\n",
       "      <td>1994-09-28</td>\n",
       "      <td>蒯圣杰</td>\n",
       "      <td>1992-10-05</td>\n",
       "      <td>,复发性流产，染色体异常，,,, ,复发性流产，染色体异常，,,</td>\n",
       "      <td>nan, nan</td>\n",
       "    </tr>\n",
       "    <tr>\n",
       "      <th>7258</th>\n",
       "      <td>17-1756</td>\n",
       "      <td>蒯圣杰</td>\n",
       "      <td>1992-10-05</td>\n",
       "      <td>蒯圣杰</td>\n",
       "      <td>1992-10-05</td>\n",
       "      <td>,复发性流产，染色体异常，,,, ,复发性流产，染色体异常，,,</td>\n",
       "      <td>nan, nan</td>\n",
       "    </tr>\n",
       "  </tbody>\n",
       "</table>\n",
       "</div>"
      ],
      "text/plain": [
       "        IVF编号 女方姓名       女方生日 男方姓名       男方生日  \\\n",
       "7257  17-1756  阳敬宇 1994-09-28  蒯圣杰 1992-10-05   \n",
       "7258  17-1756  蒯圣杰 1992-10-05  蒯圣杰 1992-10-05   \n",
       "\n",
       "                                    诊断       孕育史  \n",
       "7257  ,复发性流产，染色体异常，,,, ,复发性流产，染色体异常，,,  nan, nan  \n",
       "7258  ,复发性流产，染色体异常，,,, ,复发性流产，染色体异常，,,  nan, nan  "
      ]
     },
     "execution_count": 2627,
     "metadata": {},
     "output_type": "execute_result"
    }
   ],
   "source": [
    "df1_pro[df1_pro['IVF编号'] == '17-1756'] #确认该IVF号出现的问题，发现是女方姓名错误地输入为男方姓名"
   ]
  },
  {
   "cell_type": "code",
   "execution_count": 2628,
   "metadata": {},
   "outputs": [],
   "source": [
    "df1_pro = df1_pro.drop(7258).reset_index(drop=True) #删除该行"
   ]
  },
  {
   "cell_type": "code",
   "execution_count": 2629,
   "metadata": {},
   "outputs": [
    {
     "data": {
      "text/plain": [
       "count     8751\n",
       "unique    7918\n",
       "top         张婷\n",
       "freq        12\n",
       "Name: 女方姓名, dtype: object"
      ]
     },
     "execution_count": 2629,
     "metadata": {},
     "output_type": "execute_result"
    }
   ],
   "source": [
    "df1_pro['女方姓名'].describe()\n",
    "#检查发现女方姓名缺了很多，由于产科数据匹配时只能依赖姓名，故需要尽量补全。"
   ]
  },
  {
   "cell_type": "code",
   "execution_count": 2630,
   "metadata": {},
   "outputs": [],
   "source": [
    "#选出df2中的名字列用以填补基本信息表中缺失\n",
    "df2_name = df2[['IVF编号','姓名']].drop_duplicates(subset=['IVF编号']).reset_index(drop=True)\n",
    "#同时要保证这些名字字符串中没有两端没有空白\n",
    "df2_name.loc[df2_name['姓名'].notna(),'姓名'] = df2_name.loc[df2_name['姓名'].notna(),'姓名'].apply(lambda x: x.strip())"
   ]
  },
  {
   "cell_type": "code",
   "execution_count": 2631,
   "metadata": {},
   "outputs": [],
   "source": [
    "#修补基本信息中的姓名\n",
    "df1_name = df1_pro[['IVF编号','女方姓名']].merge(df2_name,on='IVF编号',how='left')\n",
    "#保证原来列中的名字字符串中没有两端没有空白\n",
    "df1_name.loc[df1_name['女方姓名'].notna(),'女方姓名'] = df1_name.loc[df1_name['女方姓名'].notna(),'女方姓名'].apply(lambda x: x.strip())"
   ]
  },
  {
   "cell_type": "code",
   "execution_count": 2632,
   "metadata": {},
   "outputs": [],
   "source": [
    "#填补df1中没有，但是df2中有的\n",
    "df1_name.loc[df1_name['女方姓名'].isna(),'女方姓名'] = df1_name.loc[df1_name['女方姓名'].isna(),'姓名']"
   ]
  },
  {
   "cell_type": "code",
   "execution_count": 2633,
   "metadata": {
    "scrolled": true
   },
   "outputs": [
    {
     "data": {
      "text/html": [
       "<div>\n",
       "<style scoped>\n",
       "    .dataframe tbody tr th:only-of-type {\n",
       "        vertical-align: middle;\n",
       "    }\n",
       "\n",
       "    .dataframe tbody tr th {\n",
       "        vertical-align: top;\n",
       "    }\n",
       "\n",
       "    .dataframe thead th {\n",
       "        text-align: right;\n",
       "    }\n",
       "</style>\n",
       "<table border=\"1\" class=\"dataframe\">\n",
       "  <thead>\n",
       "    <tr style=\"text-align: right;\">\n",
       "      <th></th>\n",
       "      <th>IVF编号</th>\n",
       "      <th>女方姓名</th>\n",
       "      <th>姓名</th>\n",
       "    </tr>\n",
       "  </thead>\n",
       "  <tbody>\n",
       "    <tr>\n",
       "      <th>3246</th>\n",
       "      <td>16-0110</td>\n",
       "      <td>沈燕★01</td>\n",
       "      <td>沈燕</td>\n",
       "    </tr>\n",
       "    <tr>\n",
       "      <th>3351</th>\n",
       "      <td>16-0215</td>\n",
       "      <td>金文</td>\n",
       "      <td>金文</td>\n",
       "    </tr>\n",
       "    <tr>\n",
       "      <th>3839</th>\n",
       "      <td>16-0704</td>\n",
       "      <td>谭晓洁</td>\n",
       "      <td>谭晓灇</td>\n",
       "    </tr>\n",
       "    <tr>\n",
       "      <th>4705</th>\n",
       "      <td>16-1574</td>\n",
       "      <td>曹晓莉★01</td>\n",
       "      <td>曹晓莉</td>\n",
       "    </tr>\n",
       "    <tr>\n",
       "      <th>5916</th>\n",
       "      <td>17-0394</td>\n",
       "      <td>朱晓婷</td>\n",
       "      <td>徐佳春</td>\n",
       "    </tr>\n",
       "    <tr>\n",
       "      <th>8121</th>\n",
       "      <td>18-0458</td>\n",
       "      <td>刘霞</td>\n",
       "      <td>刘霞★01</td>\n",
       "    </tr>\n",
       "  </tbody>\n",
       "</table>\n",
       "</div>"
      ],
      "text/plain": [
       "        IVF编号    女方姓名     姓名\n",
       "3246  16-0110   沈燕★01     沈燕\n",
       "3351  16-0215     金文     金文\n",
       "3839  16-0704     谭晓洁    谭晓灇\n",
       "4705  16-1574  曹晓莉★01    曹晓莉\n",
       "5916  17-0394     朱晓婷    徐佳春\n",
       "8121  18-0458      刘霞  刘霞★01"
      ]
     },
     "execution_count": 2633,
     "metadata": {},
     "output_type": "execute_result"
    }
   ],
   "source": [
    "#检查：发现还有一些不同的，手动更改\n",
    "df1_name[(df1_name['女方姓名']!= df1_name['姓名']) & (df1_name['姓名'].notna())]"
   ]
  },
  {
   "cell_type": "code",
   "execution_count": 2634,
   "metadata": {},
   "outputs": [],
   "source": [
    "#手动更正\n",
    "df1_name.iloc[3246,1] = '沈燕'\n",
    "df1_name.iloc[3351,1] = '金文'\n",
    "df1_name.iloc[4705,1] = '曹晓莉'"
   ]
  },
  {
   "cell_type": "code",
   "execution_count": 2635,
   "metadata": {
    "scrolled": true
   },
   "outputs": [],
   "source": [
    "#将df1_name中的女方姓名填补到df1_pro中去\n",
    "df1_pro['女方姓名'] = df1_name['女方姓名']"
   ]
  },
  {
   "cell_type": "code",
   "execution_count": 2637,
   "metadata": {},
   "outputs": [
    {
     "data": {
      "text/html": [
       "<div>\n",
       "<style scoped>\n",
       "    .dataframe tbody tr th:only-of-type {\n",
       "        vertical-align: middle;\n",
       "    }\n",
       "\n",
       "    .dataframe tbody tr th {\n",
       "        vertical-align: top;\n",
       "    }\n",
       "\n",
       "    .dataframe thead th {\n",
       "        text-align: right;\n",
       "    }\n",
       "</style>\n",
       "<table border=\"1\" class=\"dataframe\">\n",
       "  <thead>\n",
       "    <tr style=\"text-align: right;\">\n",
       "      <th></th>\n",
       "      <th>IVF编号</th>\n",
       "      <th>女方姓名</th>\n",
       "      <th>女方生日</th>\n",
       "      <th>男方姓名</th>\n",
       "      <th>男方生日</th>\n",
       "      <th>诊断</th>\n",
       "      <th>孕育史</th>\n",
       "    </tr>\n",
       "  </thead>\n",
       "  <tbody>\n",
       "    <tr>\n",
       "      <th>count</th>\n",
       "      <td>8770</td>\n",
       "      <td>8764</td>\n",
       "      <td>8745</td>\n",
       "      <td>8751</td>\n",
       "      <td>8750</td>\n",
       "      <td>8770</td>\n",
       "      <td>8770</td>\n",
       "    </tr>\n",
       "    <tr>\n",
       "      <th>unique</th>\n",
       "      <td>8770</td>\n",
       "      <td>7926</td>\n",
       "      <td>4776</td>\n",
       "      <td>8116</td>\n",
       "      <td>5085</td>\n",
       "      <td>143</td>\n",
       "      <td>126</td>\n",
       "    </tr>\n",
       "    <tr>\n",
       "      <th>top</th>\n",
       "      <td>18-0960</td>\n",
       "      <td>陈洁</td>\n",
       "      <td>1984-01-01 00:00:00</td>\n",
       "      <td>张俊</td>\n",
       "      <td>1978-01-01 00:00:00</td>\n",
       "      <td>,,,</td>\n",
       "      <td>0-0-0-0</td>\n",
       "    </tr>\n",
       "    <tr>\n",
       "      <th>freq</th>\n",
       "      <td>1</td>\n",
       "      <td>12</td>\n",
       "      <td>22</td>\n",
       "      <td>9</td>\n",
       "      <td>16</td>\n",
       "      <td>3354</td>\n",
       "      <td>4530</td>\n",
       "    </tr>\n",
       "    <tr>\n",
       "      <th>first</th>\n",
       "      <td>NaN</td>\n",
       "      <td>NaN</td>\n",
       "      <td>1963-05-25 00:00:00</td>\n",
       "      <td>NaN</td>\n",
       "      <td>1900-01-01 00:00:00</td>\n",
       "      <td>NaN</td>\n",
       "      <td>NaN</td>\n",
       "    </tr>\n",
       "    <tr>\n",
       "      <th>last</th>\n",
       "      <td>NaN</td>\n",
       "      <td>NaN</td>\n",
       "      <td>1997-09-16 00:00:00</td>\n",
       "      <td>NaN</td>\n",
       "      <td>1999-05-13 00:00:00</td>\n",
       "      <td>NaN</td>\n",
       "      <td>NaN</td>\n",
       "    </tr>\n",
       "  </tbody>\n",
       "</table>\n",
       "</div>"
      ],
      "text/plain": [
       "          IVF编号  女方姓名                 女方生日  男方姓名                 男方生日    诊断  \\\n",
       "count      8770  8764                 8745  8751                 8750  8770   \n",
       "unique     8770  7926                 4776  8116                 5085   143   \n",
       "top     18-0960    陈洁  1984-01-01 00:00:00    张俊  1978-01-01 00:00:00   ,,,   \n",
       "freq          1    12                   22     9                   16  3354   \n",
       "first       NaN   NaN  1963-05-25 00:00:00   NaN  1900-01-01 00:00:00   NaN   \n",
       "last        NaN   NaN  1997-09-16 00:00:00   NaN  1999-05-13 00:00:00   NaN   \n",
       "\n",
       "            孕育史  \n",
       "count      8770  \n",
       "unique      126  \n",
       "top     0-0-0-0  \n",
       "freq       4530  \n",
       "first       NaN  \n",
       "last        NaN  "
      ]
     },
     "execution_count": 2637,
     "metadata": {},
     "output_type": "execute_result"
    }
   ],
   "source": [
    "#得到了最终基本信息结果 IVF编号为键\n",
    "df1_pro.describe()"
   ]
  },
  {
   "cell_type": "markdown",
   "metadata": {},
   "source": [
    "### 对【精液检查结果表】进行处理"
   ]
  },
  {
   "cell_type": "markdown",
   "metadata": {},
   "source": [
    "#### 1.基本处理"
   ]
  },
  {
   "cell_type": "code",
   "execution_count": 476,
   "metadata": {},
   "outputs": [],
   "source": [
    "df3 = df3.sort_values(['IVF编号','检查时间']) #重新排序\n",
    "\n",
    "df3 = df3.reset_index(drop=True) #重新设置index\n",
    "\n",
    "df3['1类实验结果'] = df3['取精方式'].notna() | df3['精子密度'].notna() #有取精方式或者精子密度的数据条目可以归类为第一类实验结果\n",
    "\n",
    "df3['2类实验结果'] = df3['形态正常'].notna() #有形态正常数据的归为第二类\n",
    "\n",
    "df3['3类实验结果'] = df3['DNA碎片率指数'].notna() #有DNA碎片率指数的归为第三类\n",
    "\n",
    "df3['检查时间差'] = df3[['IVF编号','检查时间']].groupby('IVF编号')['检查时间'].diff() #按IVF分组，计算每组内条目间时间差\n",
    "\n",
    "df3_sft = df3[['IVF编号','1类实验结果','2类实验结果','3类实验结果']].groupby('IVF编号').shift(1)\n",
    "#按IVF分组，将每组结果布尔值向下位移，方便之后进行行间比较\n",
    "\n",
    "df3['能否与上行合并'] = ((df3['1类实验结果'] == False) | (df3_sft['1类实验结果'] == False)) \\\n",
    "& ((df3['2类实验结果'] == False) | (df3_sft['2类实验结果'] == False)) \\\n",
    "& ((df3['3类实验结果'] == False) | (df3_sft['3类实验结果'] == False)) \n",
    "#进行行间比较，如果该行与上一行之间不是同一类实验结果，则从数据来讲可以合并（不考虑其检查时间差）\n",
    "\n",
    "df3_sft2 = df3[['IVF编号','1类实验结果','2类实验结果','3类实验结果']].groupby('IVF编号').shift(2)\n",
    "#位移2位，方便进行隔行间比较\n",
    "\n",
    "df3['能否与上上行合并'] = ((df3['1类实验结果'] == False) | (df3_sft2['1类实验结果'] == False)) \\\n",
    "& ((df3['2类实验结果'] == False) | (df3_sft2['2类实验结果'] == False)) \\\n",
    "& ((df3['3类实验结果'] == False) | (df3_sft2['3类实验结果'] == False)) \n",
    "#进行隔行比较，如果该行与上上行之间不是同一类实验结果，则从数据来讲可以合并（不考虑其检查时间差）"
   ]
  },
  {
   "cell_type": "code",
   "execution_count": 443,
   "metadata": {},
   "outputs": [],
   "source": [
    "#得到新的df3"
   ]
  },
  {
   "cell_type": "markdown",
   "metadata": {},
   "source": [
    "#### 2.找到每一条检查记录的实验组开始的日期（找出组头）"
   ]
  },
  {
   "cell_type": "markdown",
   "metadata": {},
   "source": [
    "#### 第1次分组"
   ]
  },
  {
   "cell_type": "code",
   "execution_count": 477,
   "metadata": {},
   "outputs": [],
   "source": [
    "#作为组头的条件：与上方数据结构重复 或 检查数据是患者首行数据 或 该检查与上次检查差30天以上\n",
    "mycrit = (df3['能否与上行合并'] == False) | (df3['检查时间差'].isna()) | (df3['检查时间差'] >= pd.Timedelta(30, unit='d'))"
   ]
  },
  {
   "cell_type": "code",
   "execution_count": 478,
   "metadata": {},
   "outputs": [],
   "source": [
    "#get_grouphead(df,mycrit)\n",
    "#筛选出每组的标记行（即可作为组内数据合并的标杆行）\n",
    "df3_key = df3[mycrit][['IVF编号','检查时间']]\n",
    "df3_key.columns=['IVF编号','检查组开始时间']"
   ]
  },
  {
   "cell_type": "code",
   "execution_count": 479,
   "metadata": {},
   "outputs": [],
   "source": [
    "#get_groups(df,df_grouphead)\n",
    "#将每条实验记录附上可能的标记行\n",
    "df3_mgd = df3.merge(df3_key, on='IVF编号', how='left')\n",
    "#添加记录实验时间和标记实验组开始时间的时间差\n",
    "df3_mgd['时间差'] = df3_mgd['检查时间'] - df3_mgd['检查组开始时间']\n",
    "#根据条件筛选出与每条实验记录最匹配的标记行（即该组实验开始日期）；按照时间差排序，保留时间差最接近0的正值，即可得到最匹配的标记行\n",
    "df3_mgd = df3_mgd[df3_mgd['时间差'] >= pd.Timedelta(0,unit='d')]\\\n",
    "        .sort_values(['IVF编号','检查时间','时间差']).drop_duplicates(subset=['IVF编号','检查时间'])\n",
    "#重新设置index\n",
    "df3_mgd = df3_mgd.reset_index(drop=True)"
   ]
  },
  {
   "cell_type": "code",
   "execution_count": 480,
   "metadata": {},
   "outputs": [],
   "source": [
    "#write_groupinfo(df,mycrit)\n",
    "#将分组结果写入表格\n",
    "df3_fin = df3_mgd.copy()\n",
    "df3_fin['第1次分组结果'] = mycrit\n",
    "df3_fin['上行第1次分组结果'] = df3_fin[['IVF编号','第1次分组结果']].groupby('IVF编号')[['第1次分组结果']].shift(1) #将上行的分组结果下移方便对比\n",
    "df3_fin['上上行第1次分组结果'] = df3_fin[['IVF编号','第1次分组结果']].groupby('IVF编号')[['第1次分组结果']].shift(2) #将上上行的下移方便对比"
   ]
  },
  {
   "cell_type": "markdown",
   "metadata": {},
   "source": [
    "#### 第二次分组：\n",
    "经观察分组结果，发现过分合并十分严重，原因是时间阈值过大，许多数据行隔行重复同样被合并。\n",
    "在此我们1.找出组内行数大于等于3的组中的第3行，2.判断其与该组第1行的咬合性，若两者冲突，则将该第3行定为新的组头；3.将新组头与第一次结果合并"
   ]
  },
  {
   "cell_type": "code",
   "execution_count": 483,
   "metadata": {},
   "outputs": [],
   "source": [
    "mycrit2 = (((df3_fin['第1次分组结果'] == False) & (df3_fin['上行第1次分组结果'] == False) & (df3_fin['上上行第1次分组结果'] == True)\\\n",
    "        & (df3_fin['能否与上上行合并'] == False)) | (df3_fin['第1次分组结果'] == True))"
   ]
  },
  {
   "cell_type": "code",
   "execution_count": 484,
   "metadata": {},
   "outputs": [],
   "source": [
    "#write_groupinfo\n",
    "#将分组结果写入表格\n",
    "df3_fin['第2次分组结果'] = mycrit2\n",
    "df3_fin['上行第2次分组结果'] = df3_fin[['IVF编号','第2次分组结果']].groupby('IVF编号')[['第2次分组结果']].shift(1) #将上行的分组结果下移方便对比\n",
    "df3_fin['上上行第2次分组结果'] = df3_fin[['IVF编号','第2次分组结果']].groupby('IVF编号')[['第2次分组结果']].shift(2) #将上上行的下移方便对比"
   ]
  },
  {
   "cell_type": "code",
   "execution_count": 518,
   "metadata": {},
   "outputs": [],
   "source": [
    "mycrit2 = (((df3_fin['第2次分组结果'] == False) & (df3_fin['上行第2次分组结果'] == False) & (df3_fin['上上行第2次分组结果'] == True)\\\n",
    "        & (df3_fin['能否与上上行合并'] == False)) | (df3_fin['第2次分组结果'] == True))"
   ]
  },
  {
   "cell_type": "code",
   "execution_count": 519,
   "metadata": {},
   "outputs": [],
   "source": [
    "#根据第2次分组结果再进行一次迭代\n",
    "df3_fin['第2次分组结果'] = mycrit2\n",
    "df3_fin['上行第2次分组结果'] = df3_fin[['IVF编号','第2次分组结果']].groupby('IVF编号')[['第2次分组结果']].shift(1) #将上行的分组结果下移方便对比\n",
    "df3_fin['上上行第2次分组结果'] = df3_fin[['IVF编号','第2次分组结果']].groupby('IVF编号')[['第2次分组结果']].shift(2) #将上上行的下移方便对比"
   ]
  },
  {
   "cell_type": "code",
   "execution_count": 531,
   "metadata": {},
   "outputs": [
    {
     "data": {
      "text/plain": [
       "True     12285\n",
       "False     8287\n",
       "dtype: int64"
      ]
     },
     "execution_count": 531,
     "metadata": {},
     "output_type": "execute_result"
    }
   ],
   "source": [
    "#将上单元格迭代多次后，分组结果保持稳定\n",
    "mycrit2.value_counts()"
   ]
  },
  {
   "cell_type": "code",
   "execution_count": 540,
   "metadata": {},
   "outputs": [],
   "source": [
    "#get_groups\n",
    "#筛选出每组的标记行（即可作为组内数据合并的标杆行）\n",
    "df3_key = df3[mycrit2][['IVF编号','检查时间']]\n",
    "df3_key.columns=['IVF编号','检查组开始时间']\n",
    "#将每条实验记录附上可能的标记行\n",
    "df3_mgd = df3.merge(df3_key, on='IVF编号', how='left')\n",
    "#添加记录实验时间和标记实验组开始时间的时间差\n",
    "df3_mgd['时间差'] = df3_mgd['检查时间'] - df3_mgd['检查组开始时间']\n",
    "#根据条件筛选出与每条实验记录最匹配的标记行（即该组实验开始日期）；按照时间差排序，保留时间差最接近0的正值，即可得到最匹配的标记行\n",
    "df3_mgd = df3_mgd[df3_mgd['时间差'] >= pd.Timedelta(0,unit='d')]\\\n",
    "        .sort_values(['IVF编号','检查时间','时间差']).drop_duplicates(subset=['IVF编号','检查时间'])\n",
    "#重新设置index\n",
    "df3_mgd = df3_mgd.reset_index(drop=True)"
   ]
  },
  {
   "cell_type": "markdown",
   "metadata": {},
   "source": [
    "#### 第三次分组：\n",
    "观察第二次分组后的结果发现，3行组成的组中，过分合并已经解决。剩余过分合并的均为12312类型的4-5行的组\n",
    "我们需要找到每组第4行（若存在），将其设为独立组头"
   ]
  },
  {
   "cell_type": "code",
   "execution_count": 521,
   "metadata": {},
   "outputs": [],
   "source": [
    "#首先将上上上行下移，用来判断每组第四行\n",
    "df3_fin['上上上行第2次分组结果'] = df3_fin[['IVF编号','第2次分组结果']].groupby('IVF编号')[['第2次分组结果']].shift(3) #将上上行的下移方便对比"
   ]
  },
  {
   "cell_type": "code",
   "execution_count": 527,
   "metadata": {},
   "outputs": [],
   "source": [
    "#找到有4行以上的组每组的第四行，它们需要设置为新组头，并与上次结果合并\n",
    "mycrit3 = (((df3_fin['第2次分组结果'] == False) & (df3_fin['上行第2次分组结果'] == False) \\\n",
    "            & (df3_fin['上上行第2次分组结果'] == False) & (df3_fin['上上上行第2次分组结果'] == True)) \\\n",
    "            | (df3_fin['第2次分组结果'] == True))"
   ]
  },
  {
   "cell_type": "code",
   "execution_count": 567,
   "metadata": {},
   "outputs": [],
   "source": [
    "df3_fin['第3次分组结果'] = mycrit3"
   ]
  },
  {
   "cell_type": "code",
   "execution_count": 568,
   "metadata": {},
   "outputs": [],
   "source": [
    "#get_groups(df,mycrit)\n",
    "#筛选出每组的标记行（即可作为组内数据合并的标杆行）\n",
    "df3_key = df3[mycrit3][['IVF编号','检查时间']]\n",
    "df3_key.columns=['IVF编号','检查组开始时间']\n",
    "#将每条实验记录附上可能的标记行\n",
    "df3_mgd = df3.merge(df3_key, on='IVF编号', how='left')\n",
    "#添加记录实验时间和标记实验组开始时间的时间差\n",
    "df3_mgd['时间差'] = df3_mgd['检查时间'] - df3_mgd['检查组开始时间']\n",
    "#根据条件筛选出与每条实验记录最匹配的标记行（即该组实验开始日期）\n",
    "#按照时间差排序，保留时间差最接近0的正值，即可得到最匹配的标记行\n",
    "df3_mgd = df3_mgd[df3_mgd['时间差'] >= pd.Timedelta(0,unit='d')]\\\n",
    "        .sort_values(['IVF编号','检查时间','时间差']).drop_duplicates(subset=['IVF编号','检查时间'])\n",
    "#重新设置index\n",
    "df3_mgd = df3_mgd.reset_index(drop=True)"
   ]
  },
  {
   "cell_type": "code",
   "execution_count": null,
   "metadata": {},
   "outputs": [],
   "source": []
  },
  {
   "cell_type": "markdown",
   "metadata": {},
   "source": [
    "#### 3.检查分组得到的结果："
   ]
  },
  {
   "cell_type": "code",
   "execution_count": 2085,
   "metadata": {},
   "outputs": [],
   "source": [
    "#get_sumtab\n",
    "#按现有分组得到的每人每组数据情况\n",
    "mytab = df3_mgd[['IVF编号','检查组开始时间','1类实验结果','2类实验结果','3类实验结果']].groupby(['IVF编号','检查组开始时间'])\\\n",
    "        .sum().reset_index()\n",
    "#加入判断列，记录该组是否有全三项数据\n",
    "mytab['是否含全3类'] = (mytab['1类实验结果'] >= 1) & (mytab['2类实验结果'] >= 1) & (mytab['3类实验结果'] >= 1)\n",
    "#加入记录列，记录每组数据行数\n",
    "mytab['组内数据行数'] = df3_mgd.groupby(['IVF编号','检查组开始时间'])['IVF编号'].count().reset_index(drop=True)\n",
    "#每人数据总情况\n",
    "mytab_sum = df3_mgd[['IVF编号','1类实验结果','2类实验结果','3类实验结果']].groupby(['IVF编号']).sum().reset_index()\n",
    "#判断记录该人是否有全三项数据\n",
    "mytab_sum['是否含全3类'] = (mytab_sum['1类实验结果'] >= 1) & (mytab_sum['2类实验结果'] >= 1) & (mytab_sum['3类实验结果'] >= 1)\n",
    "#按现有分组，记录每个人是否至少有一组完整数据\n",
    "mytab_sum['至少一组含全3类'] = (mytab.groupby('IVF编号')['是否含全3类'].sum() >= 1).reset_index(drop=True)"
   ]
  },
  {
   "cell_type": "markdown",
   "metadata": {},
   "source": [
    "#### 检查1：\n",
    "检查某人记录有完整数据，但是分组后没有任何一组是完整数据的组数。检验是否$分组过细$："
   ]
  },
  {
   "cell_type": "code",
   "execution_count": 2086,
   "metadata": {},
   "outputs": [
    {
     "data": {
      "text/plain": [
       "48"
      ]
     },
     "execution_count": 2086,
     "metadata": {},
     "output_type": "execute_result"
    }
   ],
   "source": [
    "#筛选出：个人全纪录里有完整数据，但是分组后没有一组包含完整数据的组。\n",
    "myse =mytab_sum[(mytab_sum['是否含全3类'] == True) & (mytab_sum['至少一组含全3类'] == False)]['IVF编号']\n",
    "#满足以上条件的人数（数量越大说明分组越细）\n",
    "myse.nunique()"
   ]
  },
  {
   "cell_type": "code",
   "execution_count": 2087,
   "metadata": {},
   "outputs": [
    {
     "data": {
      "text/plain": [
       "True     1958\n",
       "False      48\n",
       "Name: 至少一组含全3类, dtype: int64"
      ]
     },
     "execution_count": 2087,
     "metadata": {},
     "output_type": "execute_result"
    }
   ],
   "source": [
    "mytab_sum[(mytab_sum['是否含全3类'] == True)]['至少一组含全3类'].value_counts()"
   ]
  },
  {
   "cell_type": "code",
   "execution_count": 2088,
   "metadata": {},
   "outputs": [
    {
     "data": {
      "text/plain": [
       "False    5074\n",
       "Name: 至少一组含全3类, dtype: int64"
      ]
     },
     "execution_count": 2088,
     "metadata": {},
     "output_type": "execute_result"
    }
   ],
   "source": [
    "mytab_sum[(mytab_sum['是否含全3类'] == False)]['至少一组含全3类'].value_counts()"
   ]
  },
  {
   "cell_type": "markdown",
   "metadata": {},
   "source": [
    "#### 检查2：\n",
    "检查每个分组内的数据行数，用于检查是否$过分合并$，\n",
    "按理每组数据行数最多为3，某些组行数大于3的原因是：某些数据行与上行结构互补，时间差小，但是该行与上上行重复"
   ]
  },
  {
   "cell_type": "code",
   "execution_count": 2089,
   "metadata": {
    "collapsed": true
   },
   "outputs": [
    {
     "data": {
      "text/html": [
       "<div>\n",
       "<style scoped>\n",
       "    .dataframe tbody tr th:only-of-type {\n",
       "        vertical-align: middle;\n",
       "    }\n",
       "\n",
       "    .dataframe tbody tr th {\n",
       "        vertical-align: top;\n",
       "    }\n",
       "\n",
       "    .dataframe thead th {\n",
       "        text-align: right;\n",
       "    }\n",
       "</style>\n",
       "<table border=\"1\" class=\"dataframe\">\n",
       "  <thead>\n",
       "    <tr style=\"text-align: right;\">\n",
       "      <th></th>\n",
       "      <th>组内数据行数</th>\n",
       "    </tr>\n",
       "  </thead>\n",
       "  <tbody>\n",
       "    <tr>\n",
       "      <th>count</th>\n",
       "      <td>12319.000000</td>\n",
       "    </tr>\n",
       "    <tr>\n",
       "      <th>mean</th>\n",
       "      <td>1.669941</td>\n",
       "    </tr>\n",
       "    <tr>\n",
       "      <th>std</th>\n",
       "      <td>0.700357</td>\n",
       "    </tr>\n",
       "    <tr>\n",
       "      <th>min</th>\n",
       "      <td>1.000000</td>\n",
       "    </tr>\n",
       "    <tr>\n",
       "      <th>25%</th>\n",
       "      <td>1.000000</td>\n",
       "    </tr>\n",
       "    <tr>\n",
       "      <th>50%</th>\n",
       "      <td>2.000000</td>\n",
       "    </tr>\n",
       "    <tr>\n",
       "      <th>75%</th>\n",
       "      <td>2.000000</td>\n",
       "    </tr>\n",
       "    <tr>\n",
       "      <th>max</th>\n",
       "      <td>3.000000</td>\n",
       "    </tr>\n",
       "  </tbody>\n",
       "</table>\n",
       "</div>"
      ],
      "text/plain": [
       "             组内数据行数\n",
       "count  12319.000000\n",
       "mean       1.669941\n",
       "std        0.700357\n",
       "min        1.000000\n",
       "25%        1.000000\n",
       "50%        2.000000\n",
       "75%        2.000000\n",
       "max        3.000000"
      ]
     },
     "execution_count": 2089,
     "metadata": {},
     "output_type": "execute_result"
    }
   ],
   "source": [
    "#检查每个分组的所有情况\n",
    "mytab.describe()"
   ]
  },
  {
   "cell_type": "code",
   "execution_count": 2090,
   "metadata": {
    "collapsed": true
   },
   "outputs": [
    {
     "data": {
      "text/html": [
       "<div>\n",
       "<style scoped>\n",
       "    .dataframe tbody tr th:only-of-type {\n",
       "        vertical-align: middle;\n",
       "    }\n",
       "\n",
       "    .dataframe tbody tr th {\n",
       "        vertical-align: top;\n",
       "    }\n",
       "\n",
       "    .dataframe thead th {\n",
       "        text-align: right;\n",
       "    }\n",
       "</style>\n",
       "<table border=\"1\" class=\"dataframe\">\n",
       "  <thead>\n",
       "    <tr style=\"text-align: right;\">\n",
       "      <th></th>\n",
       "      <th>组内数据行数</th>\n",
       "    </tr>\n",
       "  </thead>\n",
       "  <tbody>\n",
       "    <tr>\n",
       "      <th>count</th>\n",
       "      <td>0.0</td>\n",
       "    </tr>\n",
       "    <tr>\n",
       "      <th>mean</th>\n",
       "      <td>NaN</td>\n",
       "    </tr>\n",
       "    <tr>\n",
       "      <th>std</th>\n",
       "      <td>NaN</td>\n",
       "    </tr>\n",
       "    <tr>\n",
       "      <th>min</th>\n",
       "      <td>NaN</td>\n",
       "    </tr>\n",
       "    <tr>\n",
       "      <th>25%</th>\n",
       "      <td>NaN</td>\n",
       "    </tr>\n",
       "    <tr>\n",
       "      <th>50%</th>\n",
       "      <td>NaN</td>\n",
       "    </tr>\n",
       "    <tr>\n",
       "      <th>75%</th>\n",
       "      <td>NaN</td>\n",
       "    </tr>\n",
       "    <tr>\n",
       "      <th>max</th>\n",
       "      <td>NaN</td>\n",
       "    </tr>\n",
       "  </tbody>\n",
       "</table>\n",
       "</div>"
      ],
      "text/plain": [
       "       组内数据行数\n",
       "count     0.0\n",
       "mean      NaN\n",
       "std       NaN\n",
       "min       NaN\n",
       "25%       NaN\n",
       "50%       NaN\n",
       "75%       NaN\n",
       "max       NaN"
      ]
     },
     "execution_count": 2090,
     "metadata": {},
     "output_type": "execute_result"
    }
   ],
   "source": [
    "#检查数据行数为3时，数据点重合情况（数量越大说明过分合并越多）\n",
    "mytab[((mytab['1类实验结果'] >= 2) | (mytab['2类实验结果'] >= 2) | (mytab['3类实验结果'] >= 2)) & (mytab['组内数据行数']==3)].describe()"
   ]
  },
  {
   "cell_type": "code",
   "execution_count": 2091,
   "metadata": {
    "collapsed": true
   },
   "outputs": [
    {
     "data": {
      "text/html": [
       "<div>\n",
       "<style scoped>\n",
       "    .dataframe tbody tr th:only-of-type {\n",
       "        vertical-align: middle;\n",
       "    }\n",
       "\n",
       "    .dataframe tbody tr th {\n",
       "        vertical-align: top;\n",
       "    }\n",
       "\n",
       "    .dataframe thead th {\n",
       "        text-align: right;\n",
       "    }\n",
       "</style>\n",
       "<table border=\"1\" class=\"dataframe\">\n",
       "  <thead>\n",
       "    <tr style=\"text-align: right;\">\n",
       "      <th></th>\n",
       "      <th>组内数据行数</th>\n",
       "    </tr>\n",
       "  </thead>\n",
       "  <tbody>\n",
       "    <tr>\n",
       "      <th>count</th>\n",
       "      <td>0.0</td>\n",
       "    </tr>\n",
       "    <tr>\n",
       "      <th>mean</th>\n",
       "      <td>NaN</td>\n",
       "    </tr>\n",
       "    <tr>\n",
       "      <th>std</th>\n",
       "      <td>NaN</td>\n",
       "    </tr>\n",
       "    <tr>\n",
       "      <th>min</th>\n",
       "      <td>NaN</td>\n",
       "    </tr>\n",
       "    <tr>\n",
       "      <th>25%</th>\n",
       "      <td>NaN</td>\n",
       "    </tr>\n",
       "    <tr>\n",
       "      <th>50%</th>\n",
       "      <td>NaN</td>\n",
       "    </tr>\n",
       "    <tr>\n",
       "      <th>75%</th>\n",
       "      <td>NaN</td>\n",
       "    </tr>\n",
       "    <tr>\n",
       "      <th>max</th>\n",
       "      <td>NaN</td>\n",
       "    </tr>\n",
       "  </tbody>\n",
       "</table>\n",
       "</div>"
      ],
      "text/plain": [
       "       组内数据行数\n",
       "count     0.0\n",
       "mean      NaN\n",
       "std       NaN\n",
       "min       NaN\n",
       "25%       NaN\n",
       "50%       NaN\n",
       "75%       NaN\n",
       "max       NaN"
      ]
     },
     "execution_count": 2091,
     "metadata": {},
     "output_type": "execute_result"
    }
   ],
   "source": [
    "#检查数据行数超过3行的情况（数量越大说明过分合并越多）\n",
    "mytab[mytab['组内数据行数']>3].describe()"
   ]
  },
  {
   "cell_type": "code",
   "execution_count": 2092,
   "metadata": {
    "collapsed": true
   },
   "outputs": [
    {
     "data": {
      "text/html": [
       "<div>\n",
       "<style scoped>\n",
       "    .dataframe tbody tr th:only-of-type {\n",
       "        vertical-align: middle;\n",
       "    }\n",
       "\n",
       "    .dataframe tbody tr th {\n",
       "        vertical-align: top;\n",
       "    }\n",
       "\n",
       "    .dataframe thead th {\n",
       "        text-align: right;\n",
       "    }\n",
       "</style>\n",
       "<table border=\"1\" class=\"dataframe\">\n",
       "  <thead>\n",
       "    <tr style=\"text-align: right;\">\n",
       "      <th></th>\n",
       "      <th>组内数据行数</th>\n",
       "    </tr>\n",
       "  </thead>\n",
       "  <tbody>\n",
       "    <tr>\n",
       "      <th>count</th>\n",
       "      <td>0.0</td>\n",
       "    </tr>\n",
       "    <tr>\n",
       "      <th>mean</th>\n",
       "      <td>NaN</td>\n",
       "    </tr>\n",
       "    <tr>\n",
       "      <th>std</th>\n",
       "      <td>NaN</td>\n",
       "    </tr>\n",
       "    <tr>\n",
       "      <th>min</th>\n",
       "      <td>NaN</td>\n",
       "    </tr>\n",
       "    <tr>\n",
       "      <th>25%</th>\n",
       "      <td>NaN</td>\n",
       "    </tr>\n",
       "    <tr>\n",
       "      <th>50%</th>\n",
       "      <td>NaN</td>\n",
       "    </tr>\n",
       "    <tr>\n",
       "      <th>75%</th>\n",
       "      <td>NaN</td>\n",
       "    </tr>\n",
       "    <tr>\n",
       "      <th>max</th>\n",
       "      <td>NaN</td>\n",
       "    </tr>\n",
       "  </tbody>\n",
       "</table>\n",
       "</div>"
      ],
      "text/plain": [
       "       组内数据行数\n",
       "count     0.0\n",
       "mean      NaN\n",
       "std       NaN\n",
       "min       NaN\n",
       "25%       NaN\n",
       "50%       NaN\n",
       "75%       NaN\n",
       "max       NaN"
      ]
     },
     "execution_count": 2092,
     "metadata": {},
     "output_type": "execute_result"
    }
   ],
   "source": [
    "#检查所有组中数据点重合情况（数量越大说明过分合并越多）\n",
    "mytab[((mytab['1类实验结果'] >= 2) | (mytab['2类实验结果'] >= 2) | (mytab['3类实验结果'] >= 2))].describe()"
   ]
  },
  {
   "cell_type": "markdown",
   "metadata": {},
   "source": [
    "#### 4.最终数据合并"
   ]
  },
  {
   "cell_type": "code",
   "execution_count": 2093,
   "metadata": {},
   "outputs": [],
   "source": [
    "mycols = ['姓名', '禁欲天数', '精液量', '精子密度', '精子密度2',\\\n",
    "       'a级 快速前向率', 'b级 慢速前向率', '向前精子率', '非向前精子率', '不动精子率', '形态正常', 'DNA碎片率指数']"
   ]
  },
  {
   "cell_type": "code",
   "execution_count": 626,
   "metadata": {},
   "outputs": [],
   "source": [
    "#将字符串替换\n",
    "df3_mgd['禁欲天数'] = df3_mgd['禁欲天数'].replace(['适中','不明','?','？'],np.nan)\n",
    "df3_mgd['精液量'] = df3_mgd['精液量'].replace('1.1.',1.1)\n",
    "df3_mgd['精子密度2'] = df3_mgd['精子密度2'].replace({'35-50': 42.5, '45-65': 55, '20-40':30, '50-70':60})\n",
    "df3_mgd['a级 快速前向率'] = df3_mgd['a级 快速前向率'].replace('N.A.',np.nan)\n",
    "df3_mgd['b级 慢速前向率'] = df3_mgd['b级 慢速前向率'].replace('N.A.',np.nan)"
   ]
  },
  {
   "cell_type": "code",
   "execution_count": 2108,
   "metadata": {},
   "outputs": [],
   "source": [
    "#根据IVF、检查组分组，将每组的数据合并\n",
    "df3_pro = df3_mgd.groupby(['IVF编号','检查组开始时间'])[mycols].mean().reset_index()"
   ]
  },
  {
   "cell_type": "code",
   "execution_count": 2109,
   "metadata": {
    "scrolled": true
   },
   "outputs": [],
   "source": [
    "#加入姓名列，加入检查组结束时间列\n",
    "df3_pro['姓名'] = df3_mgd.groupby(['IVF编号','检查组开始时间'])['姓名'].first().reset_index(drop=True)\n",
    "df3_pro['检查组结束时间'] = df3_mgd.groupby(['IVF编号','检查组开始时间'])['检查时间'].max().reset_index(drop=True)"
   ]
  },
  {
   "cell_type": "code",
   "execution_count": 2203,
   "metadata": {
    "scrolled": true
   },
   "outputs": [],
   "source": [
    "#合并精子密度列和精子密度2列\n",
    "df3_pro.loc[df3_pro['精子密度'].isna(),'精子密度'] = df3_pro.loc[df3_pro['精子密度'].isna(),'精子密度2']"
   ]
  },
  {
   "cell_type": "code",
   "execution_count": 2214,
   "metadata": {
    "scrolled": true
   },
   "outputs": [],
   "source": [
    "#合并向前精子率三列\n",
    "df3_pro.loc[df3_pro['向前精子率'].isna(),'向前精子率'] = (df3_pro.loc[df3_pro['向前精子率'].isna(), 'a级 快速前向率'] \\\n",
    "                                                        + df3_pro.loc[df3_pro['向前精子率'].isna(), 'b级 慢速前向率'])"
   ]
  },
  {
   "cell_type": "code",
   "execution_count": 2217,
   "metadata": {},
   "outputs": [],
   "source": [
    "#丢弃多于的那三列，并且重置顺序\n",
    "df3_pro = df3_pro[['IVF编号', '姓名', '检查组开始时间', '检查组结束时间', \\\n",
    "                   '禁欲天数', '精液量', '精子密度', '向前精子率', '非向前精子率', '不动精子率', '形态正常', 'DNA碎片率指数']]"
   ]
  },
  {
   "cell_type": "code",
   "execution_count": 2218,
   "metadata": {},
   "outputs": [
    {
     "data": {
      "text/html": [
       "<div>\n",
       "<style scoped>\n",
       "    .dataframe tbody tr th:only-of-type {\n",
       "        vertical-align: middle;\n",
       "    }\n",
       "\n",
       "    .dataframe tbody tr th {\n",
       "        vertical-align: top;\n",
       "    }\n",
       "\n",
       "    .dataframe thead th {\n",
       "        text-align: right;\n",
       "    }\n",
       "</style>\n",
       "<table border=\"1\" class=\"dataframe\">\n",
       "  <thead>\n",
       "    <tr style=\"text-align: right;\">\n",
       "      <th></th>\n",
       "      <th>IVF编号</th>\n",
       "      <th>检查组开始时间</th>\n",
       "    </tr>\n",
       "  </thead>\n",
       "  <tbody>\n",
       "    <tr>\n",
       "      <th>count</th>\n",
       "      <td>12319</td>\n",
       "      <td>12319</td>\n",
       "    </tr>\n",
       "    <tr>\n",
       "      <th>unique</th>\n",
       "      <td>7080</td>\n",
       "      <td>1538</td>\n",
       "    </tr>\n",
       "    <tr>\n",
       "      <th>top</th>\n",
       "      <td>17-1151</td>\n",
       "      <td>2016-03-04 00:00:00</td>\n",
       "    </tr>\n",
       "    <tr>\n",
       "      <th>freq</th>\n",
       "      <td>19</td>\n",
       "      <td>32</td>\n",
       "    </tr>\n",
       "    <tr>\n",
       "      <th>first</th>\n",
       "      <td>NaN</td>\n",
       "      <td>2009-02-13 00:00:00</td>\n",
       "    </tr>\n",
       "    <tr>\n",
       "      <th>last</th>\n",
       "      <td>NaN</td>\n",
       "      <td>2018-01-02 00:00:00</td>\n",
       "    </tr>\n",
       "  </tbody>\n",
       "</table>\n",
       "</div>"
      ],
      "text/plain": [
       "          IVF编号              检查组开始时间\n",
       "count     12319                12319\n",
       "unique     7080                 1538\n",
       "top     17-1151  2016-03-04 00:00:00\n",
       "freq         19                   32\n",
       "first       NaN  2009-02-13 00:00:00\n",
       "last        NaN  2018-01-02 00:00:00"
      ]
     },
     "execution_count": 2218,
     "metadata": {},
     "output_type": "execute_result"
    }
   ],
   "source": [
    "#得到最终结果（检查组开始时间：唯一，可作为键）\n",
    "df3_pro[['IVF编号','检查组开始时间']].describe()"
   ]
  },
  {
   "cell_type": "markdown",
   "metadata": {},
   "source": [
    "### 对【胚胎移植记录表】进行处理"
   ]
  },
  {
   "cell_type": "code",
   "execution_count": 725,
   "metadata": {},
   "outputs": [],
   "source": [
    "#去重\n",
    "df2 = df2.drop_duplicates()"
   ]
  },
  {
   "cell_type": "code",
   "execution_count": 908,
   "metadata": {},
   "outputs": [],
   "source": [
    "newcols = list(df2.columns.values)"
   ]
  },
  {
   "cell_type": "markdown",
   "metadata": {},
   "source": [
    "#### 取卵记录表处理"
   ]
  },
  {
   "cell_type": "code",
   "execution_count": 2152,
   "metadata": {},
   "outputs": [],
   "source": [
    "#取卵记录\n",
    "df2_left = df2[newcols[:13]].drop_duplicates(newcols[:1]+newcols[2:13]).reset_index(drop=True)"
   ]
  },
  {
   "cell_type": "code",
   "execution_count": 2153,
   "metadata": {},
   "outputs": [],
   "source": [
    "#按照IVF号及周期分组，记录每个周期中的行数，以检查是否有重复周期数据。\n",
    "mytab_left = df2_left.groupby(['IVF编号','周期'])[['实验室创建时间']].count().reset_index()"
   ]
  },
  {
   "cell_type": "code",
   "execution_count": 2154,
   "metadata": {},
   "outputs": [],
   "source": [
    "#找出取卵组中有多行数据的index，找出明显的重复项\n",
    "drop_index = list(df2_left[(df2_left['IVF编号'].isin(mytab_left[mytab_left['实验室创建时间']>=2]['IVF编号']) & df2_left['获卵'].isna())].index.values)"
   ]
  },
  {
   "cell_type": "code",
   "execution_count": 2155,
   "metadata": {},
   "outputs": [],
   "source": [
    "#手动添加需要删除的明显错误的index\n",
    "drop_index.extend([6871,8308,10428,10429,10477,10513,10735,10767,10972,10986,11042,11096,11604,11644,11882,11948,12052,12219])"
   ]
  },
  {
   "cell_type": "code",
   "execution_count": 2156,
   "metadata": {},
   "outputs": [],
   "source": [
    "#删除以上选出的行\n",
    "df2_left = df2_left.drop(drop_index).reset_index(drop=True)"
   ]
  },
  {
   "cell_type": "code",
   "execution_count": 2159,
   "metadata": {},
   "outputs": [],
   "source": [
    "#接着手动更正明显错误数据\n",
    "df2_left.loc[1645,'周期'] = '第3周期'\n",
    "df2_left.loc[1909,'周期'] = '第1周期'\n",
    "df2_left.loc[3320,'周期'] = '第3周期'\n",
    "df2_left.loc[10892,'周期'] = '第2周期'\n",
    "df2_left.loc[11211,'周期'] = '第1周期'\n",
    "df2_left.loc[11600,'周期'] = '第2周期'\n",
    "df2_left.loc[12234,'周期'] = '第3周期'\n",
    "#!陈志英!、!马沁!需要注意，移植表中同样需要更改"
   ]
  },
  {
   "cell_type": "code",
   "execution_count": 2163,
   "metadata": {},
   "outputs": [],
   "source": [
    "#再次检查：按照IVF号及周期分组，记录每个周期中的行数，以检查是否有重复周期数据。\n",
    "mytab_left = df2_left.groupby(['IVF编号','周期'])[['实验室创建时间']].count().reset_index()"
   ]
  },
  {
   "cell_type": "code",
   "execution_count": 2164,
   "metadata": {},
   "outputs": [
    {
     "data": {
      "text/html": [
       "<div>\n",
       "<style scoped>\n",
       "    .dataframe tbody tr th:only-of-type {\n",
       "        vertical-align: middle;\n",
       "    }\n",
       "\n",
       "    .dataframe tbody tr th {\n",
       "        vertical-align: top;\n",
       "    }\n",
       "\n",
       "    .dataframe thead th {\n",
       "        text-align: right;\n",
       "    }\n",
       "</style>\n",
       "<table border=\"1\" class=\"dataframe\">\n",
       "  <thead>\n",
       "    <tr style=\"text-align: right;\">\n",
       "      <th></th>\n",
       "      <th>IVF编号</th>\n",
       "      <th>姓名</th>\n",
       "      <th>实验室创建时间</th>\n",
       "      <th>周期</th>\n",
       "      <th>取卵日期</th>\n",
       "      <th>获卵</th>\n",
       "      <th>MII</th>\n",
       "      <th>授精方式</th>\n",
       "      <th>受精</th>\n",
       "      <th>D2</th>\n",
       "      <th>D3</th>\n",
       "      <th>D5</th>\n",
       "      <th>D6</th>\n",
       "      <th>移植日期</th>\n",
       "      <th>周期.1</th>\n",
       "      <th>移植胚胎个数</th>\n",
       "      <th>移植周期</th>\n",
       "      <th>ART方式</th>\n",
       "      <th>新鲜冷冻创建时间</th>\n",
       "      <th>血β_HCG</th>\n",
       "      <th>TV_B</th>\n",
       "      <th>诊断</th>\n",
       "    </tr>\n",
       "  </thead>\n",
       "  <tbody>\n",
       "  </tbody>\n",
       "</table>\n",
       "</div>"
      ],
      "text/plain": [
       "Empty DataFrame\n",
       "Columns: [IVF编号, 姓名, 实验室创建时间, 周期, 取卵日期, 获卵, MII, 授精方式, 受精, D2, D3, D5, D6, 移植日期, 周期.1, 移植胚胎个数, 移植周期, ART方式, 新鲜冷冻创建时间, 血β_HCG, TV_B, 诊断]\n",
       "Index: []"
      ]
     },
     "execution_count": 2164,
     "metadata": {},
     "output_type": "execute_result"
    }
   ],
   "source": [
    "#检查发现已经没有重复项目\n",
    "df2[df2['IVF编号'].isin(mytab_left[mytab_left['实验室创建时间']>=2]['IVF编号'])]"
   ]
  },
  {
   "cell_type": "code",
   "execution_count": 2165,
   "metadata": {},
   "outputs": [],
   "source": [
    "#重新命名列\n",
    "df2_left = df2_left.rename(columns={'周期':'取卵周期'})"
   ]
  },
  {
   "cell_type": "code",
   "execution_count": 2174,
   "metadata": {},
   "outputs": [],
   "source": [
    "#找出取卵日期-上一次取卵日期的对应关系\n",
    "df2_left_timeseries = df2_left[['IVF编号','取卵日期']].drop_duplicates().dropna().reset_index(drop=True)"
   ]
  },
  {
   "cell_type": "code",
   "execution_count": 2175,
   "metadata": {},
   "outputs": [],
   "source": [
    "#将上一行的移植日期下移，并且将na值填充为过去很久的日期，方便之后的日期比较\n",
    "df2_left_timeseries['上一次取卵日期'] = df2_left_timeseries.groupby(['IVF编号'])['取卵日期'].shift(1).fillna(pd.Timestamp('1920-01-01'))"
   ]
  },
  {
   "cell_type": "code",
   "execution_count": 2180,
   "metadata": {
    "scrolled": true
   },
   "outputs": [],
   "source": [
    "#将上一次取卵日期合并至表格中\n",
    "df2_left = df2_left.merge(df2_left_timeseries, on=['IVF编号','取卵日期'], how='left')\n",
    "#重新排序\n",
    "df2_left = df2_left[['IVF编号', '姓名', '实验室创建时间', '取卵周期', '上一次取卵日期', '取卵日期', '获卵', 'MII', '授精方式', '受精', 'D2', 'D3', 'D5', 'D6']]"
   ]
  },
  {
   "cell_type": "code",
   "execution_count": 2668,
   "metadata": {},
   "outputs": [
    {
     "data": {
      "text/plain": [
       "array([3, 1, 0, 6, 2, 10, 4, 5, 9, 16, 17, 13, 11, 14, 25, 15, 8, 19, 7,\n",
       "       22, 12, nan, 26, 44, 21, 36, 20, 23, 18, 30, 29, 33, 24, 34, 27,\n",
       "       35, 42, 50, 31, 40, 32, 39, 38, 62, '/', 45, 28, 41, 43, 48, 54,\n",
       "       37, 51, 69, 220, 52, 46], dtype=object)"
      ]
     },
     "execution_count": 2668,
     "metadata": {},
     "output_type": "execute_result"
    }
   ],
   "source": [
    "df2_left['获卵'].unique()\n",
    "#检查发现获卵中存在‘/’的数据，需要替换为nan"
   ]
  },
  {
   "cell_type": "code",
   "execution_count": 2670,
   "metadata": {},
   "outputs": [],
   "source": [
    "#替换‘/’为nan\n",
    "df2_left['获卵'] = df2_left['获卵'].replace({'/':np.nan})"
   ]
  },
  {
   "cell_type": "code",
   "execution_count": 2672,
   "metadata": {},
   "outputs": [
    {
     "data": {
      "text/html": [
       "<div>\n",
       "<style scoped>\n",
       "    .dataframe tbody tr th:only-of-type {\n",
       "        vertical-align: middle;\n",
       "    }\n",
       "\n",
       "    .dataframe tbody tr th {\n",
       "        vertical-align: top;\n",
       "    }\n",
       "\n",
       "    .dataframe thead th {\n",
       "        text-align: right;\n",
       "    }\n",
       "</style>\n",
       "<table border=\"1\" class=\"dataframe\">\n",
       "  <thead>\n",
       "    <tr style=\"text-align: right;\">\n",
       "      <th></th>\n",
       "      <th>IVF编号</th>\n",
       "      <th>取卵周期</th>\n",
       "    </tr>\n",
       "  </thead>\n",
       "  <tbody>\n",
       "    <tr>\n",
       "      <th>count</th>\n",
       "      <td>12302</td>\n",
       "      <td>12302</td>\n",
       "    </tr>\n",
       "    <tr>\n",
       "      <th>unique</th>\n",
       "      <td>7916</td>\n",
       "      <td>26</td>\n",
       "    </tr>\n",
       "    <tr>\n",
       "      <th>top</th>\n",
       "      <td>15-1217</td>\n",
       "      <td>第1周期</td>\n",
       "    </tr>\n",
       "    <tr>\n",
       "      <th>freq</th>\n",
       "      <td>26</td>\n",
       "      <td>7759</td>\n",
       "    </tr>\n",
       "  </tbody>\n",
       "</table>\n",
       "</div>"
      ],
      "text/plain": [
       "          IVF编号   取卵周期\n",
       "count     12302  12302\n",
       "unique     7916     26\n",
       "top     15-1217   第1周期\n",
       "freq         26   7759"
      ]
     },
     "execution_count": 2672,
     "metadata": {},
     "output_type": "execute_result"
    }
   ],
   "source": [
    "#得到了最终结果（'取卵周期'：周期序列号，唯一，可作为键）\n",
    "df2_left[['IVF编号','取卵周期']].describe()"
   ]
  },
  {
   "cell_type": "markdown",
   "metadata": {},
   "source": [
    "#### 移植记录表处理"
   ]
  },
  {
   "cell_type": "code",
   "execution_count": 1465,
   "metadata": {},
   "outputs": [
    {
     "data": {
      "text/plain": [
       "['IVF编号', '姓名', '移植日期', '周期.1', '移植胚胎个数', '移植周期', 'ART方式']"
      ]
     },
     "execution_count": 1465,
     "metadata": {},
     "output_type": "execute_result"
    }
   ],
   "source": [
    "#该表包含的列\n",
    "newcols[:2] + newcols[13:18]"
   ]
  },
  {
   "cell_type": "code",
   "execution_count": 1466,
   "metadata": {},
   "outputs": [],
   "source": [
    "#将这些列选出作为移植记录表\n",
    "df2_mid = df2[newcols[:2] + newcols[13:18]]"
   ]
  },
  {
   "cell_type": "code",
   "execution_count": 1467,
   "metadata": {},
   "outputs": [],
   "source": [
    "#检查发现没有周期.1数据的整行都没有数据，找出这些行\n",
    "drop_index_mid = df2_mid[df2_mid['周期.1'].isna()].index"
   ]
  },
  {
   "cell_type": "code",
   "execution_count": 1468,
   "metadata": {},
   "outputs": [],
   "source": [
    "#删除以上空行并且去重\n",
    "df2_mid = df2_mid.drop(drop_index_mid).drop_duplicates().reset_index(drop=True)"
   ]
  },
  {
   "cell_type": "code",
   "execution_count": 1117,
   "metadata": {},
   "outputs": [],
   "source": [
    "#检查每个人的每个周期数据是否还有无法轻易发现的重复项\n",
    "mytab_mid = df2_mid.groupby(['IVF编号','周期.1','移植日期'])[['周期.1']].count()\n",
    "mytab_mid.columns = ['count']"
   ]
  },
  {
   "cell_type": "code",
   "execution_count": 1118,
   "metadata": {},
   "outputs": [
    {
     "data": {
      "text/html": [
       "<div>\n",
       "<style scoped>\n",
       "    .dataframe tbody tr th:only-of-type {\n",
       "        vertical-align: middle;\n",
       "    }\n",
       "\n",
       "    .dataframe tbody tr th {\n",
       "        vertical-align: top;\n",
       "    }\n",
       "\n",
       "    .dataframe thead th {\n",
       "        text-align: right;\n",
       "    }\n",
       "</style>\n",
       "<table border=\"1\" class=\"dataframe\">\n",
       "  <thead>\n",
       "    <tr style=\"text-align: right;\">\n",
       "      <th></th>\n",
       "      <th>IVF编号</th>\n",
       "      <th>姓名</th>\n",
       "      <th>移植日期</th>\n",
       "      <th>周期.1</th>\n",
       "      <th>移植胚胎个数</th>\n",
       "      <th>移植周期</th>\n",
       "      <th>ART方式</th>\n",
       "    </tr>\n",
       "  </thead>\n",
       "  <tbody>\n",
       "    <tr>\n",
       "      <th>1159</th>\n",
       "      <td>15-0499</td>\n",
       "      <td>倪娟娟</td>\n",
       "      <td>2015-11-23</td>\n",
       "      <td>第2周期</td>\n",
       "      <td>1.0</td>\n",
       "      <td>D6</td>\n",
       "      <td>FET</td>\n",
       "    </tr>\n",
       "    <tr>\n",
       "      <th>1160</th>\n",
       "      <td>15-0499</td>\n",
       "      <td>倪娟娟</td>\n",
       "      <td>2016-03-03</td>\n",
       "      <td>第2周期</td>\n",
       "      <td>1.0</td>\n",
       "      <td>D6</td>\n",
       "      <td>FET</td>\n",
       "    </tr>\n",
       "    <tr>\n",
       "      <th>1161</th>\n",
       "      <td>15-0499</td>\n",
       "      <td>倪娟娟</td>\n",
       "      <td>2016-03-03</td>\n",
       "      <td>第2周期</td>\n",
       "      <td>1.0</td>\n",
       "      <td>D3</td>\n",
       "      <td>FET</td>\n",
       "    </tr>\n",
       "    <tr>\n",
       "      <th>1162</th>\n",
       "      <td>15-0499</td>\n",
       "      <td>倪娟娟</td>\n",
       "      <td>2016-05-06</td>\n",
       "      <td>第2周期</td>\n",
       "      <td>1.0</td>\n",
       "      <td>D6*1</td>\n",
       "      <td>FET</td>\n",
       "    </tr>\n",
       "    <tr>\n",
       "      <th>2606</th>\n",
       "      <td>15-2197</td>\n",
       "      <td>张媛</td>\n",
       "      <td>2016-03-28</td>\n",
       "      <td>第1周期</td>\n",
       "      <td>2.0</td>\n",
       "      <td>D6</td>\n",
       "      <td>FET</td>\n",
       "    </tr>\n",
       "    <tr>\n",
       "      <th>2607</th>\n",
       "      <td>15-2197</td>\n",
       "      <td>张媛</td>\n",
       "      <td>2016-03-28</td>\n",
       "      <td>第1周期</td>\n",
       "      <td>NaN</td>\n",
       "      <td>D6</td>\n",
       "      <td>FET</td>\n",
       "    </tr>\n",
       "    <tr>\n",
       "      <th>2608</th>\n",
       "      <td>15-2197</td>\n",
       "      <td>张媛</td>\n",
       "      <td>2016-07-29</td>\n",
       "      <td>第2周期</td>\n",
       "      <td>1.0</td>\n",
       "      <td>D3</td>\n",
       "      <td>FET</td>\n",
       "    </tr>\n",
       "  </tbody>\n",
       "</table>\n",
       "</div>"
      ],
      "text/plain": [
       "        IVF编号   姓名       移植日期  周期.1  移植胚胎个数  移植周期 ART方式\n",
       "1159  15-0499  倪娟娟 2015-11-23  第2周期     1.0    D6   FET\n",
       "1160  15-0499  倪娟娟 2016-03-03  第2周期     1.0    D6   FET\n",
       "1161  15-0499  倪娟娟 2016-03-03  第2周期     1.0    D3   FET\n",
       "1162  15-0499  倪娟娟 2016-05-06  第2周期     1.0  D6*1   FET\n",
       "2606  15-2197   张媛 2016-03-28  第1周期     2.0    D6   FET\n",
       "2607  15-2197   张媛 2016-03-28  第1周期     NaN    D6   FET\n",
       "2608  15-2197   张媛 2016-07-29  第2周期     1.0    D3   FET"
      ]
     },
     "execution_count": 1118,
     "metadata": {},
     "output_type": "execute_result"
    }
   ],
   "source": [
    "#观察重复项，手动删除\n",
    "df2_mid[df2_mid['IVF编号'].isin(mytab_mid[mytab_mid['count']>=2].reset_index()['IVF编号'])]"
   ]
  },
  {
   "cell_type": "code",
   "execution_count": 1469,
   "metadata": {},
   "outputs": [],
   "source": [
    "#手动删除\n",
    "df2_mid = df2_mid.drop([1161,2607]).reset_index(drop=True)"
   ]
  },
  {
   "cell_type": "code",
   "execution_count": 1470,
   "metadata": {},
   "outputs": [],
   "source": [
    "#重命名周期列\n",
    "df2_mid = df2_mid.rename(columns={'周期.1':'取卵周期'})"
   ]
  },
  {
   "cell_type": "code",
   "execution_count": 1998,
   "metadata": {},
   "outputs": [],
   "source": [
    "#取卵表中残留的问题：15-1436 陈， 18-0441 马\n",
    "df2_mid.loc[((df2_mid['IVF编号'] == '15-1436') & (df2_mid['取卵周期'] == '第2周期')),'取卵周期'] = '第3周期'\n",
    "df2_mid.loc[((df2_mid['IVF编号'] == '18-0441') & (df2_mid['取卵周期'] == '第1周期')),'取卵周期'] = '第2周期'"
   ]
  },
  {
   "cell_type": "markdown",
   "metadata": {},
   "source": [
    "#### 诊断记录表处理"
   ]
  },
  {
   "cell_type": "code",
   "execution_count": 1175,
   "metadata": {},
   "outputs": [],
   "source": [
    "#选出需要的列\n",
    "df2_right = df2[newcols[:2] + newcols[18:]]"
   ]
  },
  {
   "cell_type": "code",
   "execution_count": 1176,
   "metadata": {},
   "outputs": [],
   "source": [
    "#经观察发现无新鲜冷冻创建时间的其他项也均无数据，故删去\n",
    "drop_index_right = df2_right[df2_right['新鲜冷冻创建时间'].isna()].index"
   ]
  },
  {
   "cell_type": "code",
   "execution_count": 1177,
   "metadata": {},
   "outputs": [],
   "source": [
    "#删去以上的数据条\n",
    "df2_right = df2_right.drop(drop_index_right).sort_values(['IVF编号','新鲜冷冻创建时间']).reset_index(drop=True)"
   ]
  },
  {
   "cell_type": "code",
   "execution_count": 1178,
   "metadata": {},
   "outputs": [
    {
     "data": {
      "text/html": [
       "<div>\n",
       "<style scoped>\n",
       "    .dataframe tbody tr th:only-of-type {\n",
       "        vertical-align: middle;\n",
       "    }\n",
       "\n",
       "    .dataframe tbody tr th {\n",
       "        vertical-align: top;\n",
       "    }\n",
       "\n",
       "    .dataframe thead th {\n",
       "        text-align: right;\n",
       "    }\n",
       "</style>\n",
       "<table border=\"1\" class=\"dataframe\">\n",
       "  <thead>\n",
       "    <tr style=\"text-align: right;\">\n",
       "      <th></th>\n",
       "      <th>IVF编号</th>\n",
       "      <th>姓名</th>\n",
       "      <th>新鲜冷冻创建时间</th>\n",
       "      <th>血β_HCG</th>\n",
       "      <th>TV_B</th>\n",
       "      <th>诊断</th>\n",
       "    </tr>\n",
       "  </thead>\n",
       "  <tbody>\n",
       "    <tr>\n",
       "      <th>count</th>\n",
       "      <td>7105</td>\n",
       "      <td>6327</td>\n",
       "      <td>7105</td>\n",
       "      <td>6686.0</td>\n",
       "      <td>3358</td>\n",
       "      <td>3519</td>\n",
       "    </tr>\n",
       "    <tr>\n",
       "      <th>unique</th>\n",
       "      <td>5969</td>\n",
       "      <td>4824</td>\n",
       "      <td>7105</td>\n",
       "      <td>3190.0</td>\n",
       "      <td>3260</td>\n",
       "      <td>1841</td>\n",
       "    </tr>\n",
       "    <tr>\n",
       "      <th>top</th>\n",
       "      <td>15-0467</td>\n",
       "      <td>袁媛</td>\n",
       "      <td>2017-12-22 13:48:55.900000</td>\n",
       "      <td>0.1</td>\n",
       "      <td>,</td>\n",
       "      <td>早孕,早孕</td>\n",
       "    </tr>\n",
       "    <tr>\n",
       "      <th>freq</th>\n",
       "      <td>6</td>\n",
       "      <td>10</td>\n",
       "      <td>1</td>\n",
       "      <td>1119.0</td>\n",
       "      <td>54</td>\n",
       "      <td>339</td>\n",
       "    </tr>\n",
       "    <tr>\n",
       "      <th>first</th>\n",
       "      <td>NaN</td>\n",
       "      <td>NaN</td>\n",
       "      <td>2014-12-24 16:42:03.323000</td>\n",
       "      <td>NaN</td>\n",
       "      <td>NaN</td>\n",
       "      <td>NaN</td>\n",
       "    </tr>\n",
       "    <tr>\n",
       "      <th>last</th>\n",
       "      <td>NaN</td>\n",
       "      <td>NaN</td>\n",
       "      <td>2018-09-17 15:18:44.293000</td>\n",
       "      <td>NaN</td>\n",
       "      <td>NaN</td>\n",
       "      <td>NaN</td>\n",
       "    </tr>\n",
       "  </tbody>\n",
       "</table>\n",
       "</div>"
      ],
      "text/plain": [
       "          IVF编号    姓名                    新鲜冷冻创建时间  血β_HCG  TV_B     诊断\n",
       "count      7105  6327                        7105  6686.0  3358   3519\n",
       "unique     5969  4824                        7105  3190.0  3260   1841\n",
       "top     15-0467    袁媛  2017-12-22 13:48:55.900000     0.1     ,  早孕,早孕\n",
       "freq          6    10                           1  1119.0    54    339\n",
       "first       NaN   NaN  2014-12-24 16:42:03.323000     NaN   NaN    NaN\n",
       "last        NaN   NaN  2018-09-17 15:18:44.293000     NaN   NaN    NaN"
      ]
     },
     "execution_count": 1178,
     "metadata": {},
     "output_type": "execute_result"
    }
   ],
   "source": [
    "df2_right.describe()\n",
    "#检验发现创建时间无重复项，处理完成；保留了仅有创建时间但无其他数据的条目，可用来作为没有成功移植的潜在判断条件"
   ]
  },
  {
   "cell_type": "markdown",
   "metadata": {},
   "source": [
    "#### 合并移植记录和诊断记录表格"
   ]
  },
  {
   "cell_type": "markdown",
   "metadata": {},
   "source": [
    "首先找移植和诊断的对照关系"
   ]
  },
  {
   "cell_type": "code",
   "execution_count": 1500,
   "metadata": {},
   "outputs": [],
   "source": [
    "#单独调出移植信息\n",
    "df2_imp = df2_mid[['IVF编号','姓名','移植日期']].drop_duplicates().dropna().reset_index(drop=True)"
   ]
  },
  {
   "cell_type": "code",
   "execution_count": 1501,
   "metadata": {},
   "outputs": [],
   "source": [
    "#将下一行的移植日期上移，并且将na值填充为未来的日期，方便之后与诊断日期比较\n",
    "df2_imp['下一次移植日期'] = df2_imp.groupby(['IVF编号'])['移植日期'].shift(-1).fillna(pd.Timestamp('2020-01-01'))"
   ]
  },
  {
   "cell_type": "code",
   "execution_count": 1502,
   "metadata": {},
   "outputs": [],
   "source": [
    "#接下来要找到移植和诊断的一一对应关系：\n",
    "#步骤1：先将两者做以移植信息为基础的左合并\n",
    "df2_key = df2_imp.merge(df2_right[['IVF编号','新鲜冷冻创建时间']], on='IVF编号', how='left')"
   ]
  },
  {
   "cell_type": "code",
   "execution_count": 1503,
   "metadata": {
    "scrolled": true
   },
   "outputs": [],
   "source": [
    "#步骤2：筛选出其中满足移植日期和下一次移植日期间隔中间的诊断时间\n",
    "df2_key = df2_key[(df2_key['新鲜冷冻创建时间'] > df2_key['移植日期']) & (df2_key['新鲜冷冻创建时间'] < df2_key['下一次移植日期'])]"
   ]
  },
  {
   "cell_type": "code",
   "execution_count": 1941,
   "metadata": {
    "scrolled": true
   },
   "outputs": [],
   "source": [
    "#检查其中一个移植日期对应了多个诊断的条目\n",
    "mytab_new = df2_key.groupby(['IVF编号','移植日期'])[['新鲜冷冻创建时间']].count().reset_index()\n",
    "mytab_new = mytab_new.rename(columns={'新鲜冷冻创建时间':'count'})"
   ]
  },
  {
   "cell_type": "code",
   "execution_count": 1953,
   "metadata": {
    "scrolled": true
   },
   "outputs": [],
   "source": [
    "#对于一个移植日期对应多个诊断的，只保留最近的那个诊断\n",
    "df2_key = df2_key.drop_duplicates(subset=['IVF编号','移植日期']).reset_index(drop=True)"
   ]
  },
  {
   "cell_type": "markdown",
   "metadata": {},
   "source": [
    "合并移植和诊断信息"
   ]
  },
  {
   "cell_type": "code",
   "execution_count": 1955,
   "metadata": {
    "scrolled": true
   },
   "outputs": [],
   "source": [
    "#添加下一次移植日期\n",
    "df2_merge = df2_mid.merge(df2_imp[['IVF编号','移植日期','下一次移植日期']], on=['IVF编号','移植日期'], how='left')\n",
    "#步骤1：首先把新鲜冷冻创建时间加入df2_mid中作为匹配的键\n",
    "df2_merge = df2_merge.merge(df2_key[['IVF编号','移植日期','新鲜冷冻创建时间']], on=['IVF编号','移植日期'], how='left')\n",
    "#步骤2：以诊断时间为键外合并，保证未映射的诊断信息也被添加。最后重新排序。\n",
    "df2_merge = df2_merge.merge(df2_right[['IVF编号','新鲜冷冻创建时间','血β_HCG','TV_B','诊断']], on=['IVF编号','新鲜冷冻创建时间'],how='outer')\\\n",
    "        .sort_values(by=['IVF编号','移植日期','新鲜冷冻创建时间']).reset_index(drop=True)"
   ]
  },
  {
   "cell_type": "code",
   "execution_count": 1956,
   "metadata": {},
   "outputs": [],
   "source": [
    "#首先将下一次移植日期中的2020替换回原来的na，方便之后操作比较\n",
    "df2_merge['下一次移植日期'] = df2_merge['下一次移植日期'].replace(pd.Timestamp('2020-01-01'),np.nan)"
   ]
  },
  {
   "cell_type": "code",
   "execution_count": 1884,
   "metadata": {},
   "outputs": [
    {
     "data": {
      "text/plain": [
       "count        8915\n",
       "unique       6685\n",
       "top       14-1409\n",
       "freq            9\n",
       "Name: IVF编号, dtype: object"
      ]
     },
     "execution_count": 1884,
     "metadata": {},
     "output_type": "execute_result"
    }
   ],
   "source": [
    "df2_merge['IVF编号'].describe()\n",
    "#得到了最终移植和诊断信息合并结果df2_merge"
   ]
  },
  {
   "cell_type": "markdown",
   "metadata": {},
   "source": [
    "#### 处理移植诊断记录，推断受孕结果"
   ]
  },
  {
   "cell_type": "code",
   "execution_count": 1965,
   "metadata": {},
   "outputs": [],
   "source": [
    "#判断移植成功条件（排除生化妊娠）。记录移植成功列，加入表中\n",
    "df2_merge['移植成功'] = ((df2_merge['TV_B'].str.contains('孕|胚|胎|囊|芽|CRL|心|流产') == True)\\\n",
    "                         | (df2_merge['诊断'].str.contains('孕|胎|流产|异位妊娠') == True))\\\n",
    "                         & ((df2_merge['诊断'].str.contains('生化妊娠') == False)\\\n",
    "                         | (df2_merge['诊断'].isna()))"
   ]
  },
  {
   "cell_type": "code",
   "execution_count": 1966,
   "metadata": {},
   "outputs": [],
   "source": [
    "#判断是否双胎，加入表中。\n",
    "df2_merge['双胎'] = ((df2_merge['TV_B'].str.contains('孕|胚|胎|囊|芽|CRL|心|流产') == True)\\\n",
    "                         | (df2_merge['诊断'].str.contains('孕|胎|流产|异位妊娠') == True))\\\n",
    "                         & ((df2_merge['诊断'].str.contains('生化妊娠') == False)\\\n",
    "                         | (df2_merge['诊断'].isna()))\\\n",
    "                         & ((df2_merge['移植胚胎个数']>=2) | (df2_merge['移植胚胎个数'].isna()))\\\n",
    "                         & ((df2_merge['TV_B'].str.contains('双')==True) | (df2_merge['诊断'].str.contains('双')==True))"
   ]
  },
  {
   "cell_type": "code",
   "execution_count": 1967,
   "metadata": {},
   "outputs": [],
   "source": [
    "#加入移植成功个数\n",
    "df2_merge['移植成功个数'] = df2_merge['移植成功'].map({True:1,False:0}) + df2_merge['双胎'].map({True:1,False:0})"
   ]
  },
  {
   "cell_type": "code",
   "execution_count": 1928,
   "metadata": {},
   "outputs": [],
   "source": [
    "###没有诊断记录的那些条目，是当做没有受孕处理，还是舍弃这些数据？###\n",
    "#暂时当做没有受孕处理"
   ]
  },
  {
   "cell_type": "code",
   "execution_count": 1970,
   "metadata": {},
   "outputs": [],
   "source": [
    "mytab_mgd = df2_merge.groupby(['IVF编号','移植日期'])[['移植日期']].count()\n",
    "mytab_mgd.columns = ['总行数']\n",
    "mytab_mgd = mytab_mgd.reset_index()"
   ]
  },
  {
   "cell_type": "code",
   "execution_count": 2072,
   "metadata": {
    "collapsed": true
   },
   "outputs": [
    {
     "data": {
      "text/html": [
       "<div>\n",
       "<style scoped>\n",
       "    .dataframe tbody tr th:only-of-type {\n",
       "        vertical-align: middle;\n",
       "    }\n",
       "\n",
       "    .dataframe tbody tr th {\n",
       "        vertical-align: top;\n",
       "    }\n",
       "\n",
       "    .dataframe thead th {\n",
       "        text-align: right;\n",
       "    }\n",
       "</style>\n",
       "<table border=\"1\" class=\"dataframe\">\n",
       "  <thead>\n",
       "    <tr style=\"text-align: right;\">\n",
       "      <th></th>\n",
       "      <th>IVF编号</th>\n",
       "      <th>姓名</th>\n",
       "      <th>移植日期</th>\n",
       "      <th>取卵周期</th>\n",
       "      <th>移植胚胎个数</th>\n",
       "      <th>移植周期</th>\n",
       "      <th>ART方式</th>\n",
       "      <th>下一次移植日期</th>\n",
       "      <th>新鲜冷冻创建时间</th>\n",
       "      <th>血β_HCG</th>\n",
       "      <th>TV_B</th>\n",
       "      <th>诊断</th>\n",
       "      <th>移植成功</th>\n",
       "      <th>双胎</th>\n",
       "      <th>移植成功个数</th>\n",
       "    </tr>\n",
       "  </thead>\n",
       "  <tbody>\n",
       "    <tr>\n",
       "      <th>843</th>\n",
       "      <td>15-0011</td>\n",
       "      <td>岳金霞</td>\n",
       "      <td>2015-08-03</td>\n",
       "      <td>第1周期</td>\n",
       "      <td>1.0</td>\n",
       "      <td>D3</td>\n",
       "      <td>FET</td>\n",
       "      <td>NaT</td>\n",
       "      <td>NaT</td>\n",
       "      <td>NaN</td>\n",
       "      <td>NaN</td>\n",
       "      <td>NaN</td>\n",
       "      <td>False</td>\n",
       "      <td>False</td>\n",
       "      <td>0</td>\n",
       "    </tr>\n",
       "    <tr>\n",
       "      <th>844</th>\n",
       "      <td>15-0011</td>\n",
       "      <td>岳金霞</td>\n",
       "      <td>2015-08-03</td>\n",
       "      <td>第2周期</td>\n",
       "      <td>1.0</td>\n",
       "      <td>D3</td>\n",
       "      <td>FET</td>\n",
       "      <td>NaT</td>\n",
       "      <td>NaT</td>\n",
       "      <td>NaN</td>\n",
       "      <td>NaN</td>\n",
       "      <td>NaN</td>\n",
       "      <td>False</td>\n",
       "      <td>False</td>\n",
       "      <td>0</td>\n",
       "    </tr>\n",
       "    <tr>\n",
       "      <th>1238</th>\n",
       "      <td>15-0414</td>\n",
       "      <td>马晓梅</td>\n",
       "      <td>2016-05-17</td>\n",
       "      <td>第2周期</td>\n",
       "      <td>1.0</td>\n",
       "      <td>D6</td>\n",
       "      <td>FET</td>\n",
       "      <td>NaT</td>\n",
       "      <td>2016-05-31 15:41:17.927</td>\n",
       "      <td>0.2</td>\n",
       "      <td>NaN</td>\n",
       "      <td>NaN</td>\n",
       "      <td>False</td>\n",
       "      <td>False</td>\n",
       "      <td>0</td>\n",
       "    </tr>\n",
       "    <tr>\n",
       "      <th>1239</th>\n",
       "      <td>15-0414</td>\n",
       "      <td>马晓梅</td>\n",
       "      <td>2016-05-17</td>\n",
       "      <td>第3周期</td>\n",
       "      <td>1.0</td>\n",
       "      <td>D6</td>\n",
       "      <td>FET</td>\n",
       "      <td>NaT</td>\n",
       "      <td>2016-05-31 15:41:17.927</td>\n",
       "      <td>0.2</td>\n",
       "      <td>NaN</td>\n",
       "      <td>NaN</td>\n",
       "      <td>False</td>\n",
       "      <td>False</td>\n",
       "      <td>0</td>\n",
       "    </tr>\n",
       "    <tr>\n",
       "      <th>1240</th>\n",
       "      <td>15-0414</td>\n",
       "      <td>NaN</td>\n",
       "      <td>NaT</td>\n",
       "      <td>NaN</td>\n",
       "      <td>NaN</td>\n",
       "      <td>NaN</td>\n",
       "      <td>NaN</td>\n",
       "      <td>NaT</td>\n",
       "      <td>2016-06-08 09:25:33.647</td>\n",
       "      <td>0.2</td>\n",
       "      <td>NaN</td>\n",
       "      <td>NaN</td>\n",
       "      <td>False</td>\n",
       "      <td>False</td>\n",
       "      <td>0</td>\n",
       "    </tr>\n",
       "    <tr>\n",
       "      <th>2000</th>\n",
       "      <td>15-1135</td>\n",
       "      <td>毛玉怡</td>\n",
       "      <td>2016-01-26</td>\n",
       "      <td>第1周期</td>\n",
       "      <td>NaN</td>\n",
       "      <td>D3</td>\n",
       "      <td>FET</td>\n",
       "      <td>NaT</td>\n",
       "      <td>2016-09-23 10:22:32.050</td>\n",
       "      <td>TβHCG2:0.2 U/L</td>\n",
       "      <td>NaN</td>\n",
       "      <td>NaN</td>\n",
       "      <td>False</td>\n",
       "      <td>False</td>\n",
       "      <td>0</td>\n",
       "    </tr>\n",
       "    <tr>\n",
       "      <th>2001</th>\n",
       "      <td>15-1135</td>\n",
       "      <td>毛玉怡</td>\n",
       "      <td>2016-01-26</td>\n",
       "      <td>第2周期</td>\n",
       "      <td>1.0</td>\n",
       "      <td>D3</td>\n",
       "      <td>FET</td>\n",
       "      <td>NaT</td>\n",
       "      <td>2016-09-23 10:22:32.050</td>\n",
       "      <td>TβHCG2:0.2 U/L</td>\n",
       "      <td>NaN</td>\n",
       "      <td>NaN</td>\n",
       "      <td>False</td>\n",
       "      <td>False</td>\n",
       "      <td>0</td>\n",
       "    </tr>\n",
       "    <tr>\n",
       "      <th>2002</th>\n",
       "      <td>15-1135</td>\n",
       "      <td>NaN</td>\n",
       "      <td>NaT</td>\n",
       "      <td>NaN</td>\n",
       "      <td>NaN</td>\n",
       "      <td>NaN</td>\n",
       "      <td>NaN</td>\n",
       "      <td>NaT</td>\n",
       "      <td>2015-11-04 12:57:17.640</td>\n",
       "      <td>0.1</td>\n",
       "      <td>NaN</td>\n",
       "      <td>NaN</td>\n",
       "      <td>False</td>\n",
       "      <td>False</td>\n",
       "      <td>0</td>\n",
       "    </tr>\n",
       "    <tr>\n",
       "      <th>2171</th>\n",
       "      <td>15-1280</td>\n",
       "      <td>孙燕</td>\n",
       "      <td>2017-04-25</td>\n",
       "      <td>第2周期</td>\n",
       "      <td>1.0</td>\n",
       "      <td>D3</td>\n",
       "      <td>FET</td>\n",
       "      <td>NaT</td>\n",
       "      <td>NaT</td>\n",
       "      <td>NaN</td>\n",
       "      <td>NaN</td>\n",
       "      <td>NaN</td>\n",
       "      <td>False</td>\n",
       "      <td>False</td>\n",
       "      <td>0</td>\n",
       "    </tr>\n",
       "    <tr>\n",
       "      <th>2172</th>\n",
       "      <td>15-1280</td>\n",
       "      <td>孙燕</td>\n",
       "      <td>2017-04-25</td>\n",
       "      <td>第4周期</td>\n",
       "      <td>1.0</td>\n",
       "      <td>D3</td>\n",
       "      <td>FET</td>\n",
       "      <td>NaT</td>\n",
       "      <td>NaT</td>\n",
       "      <td>NaN</td>\n",
       "      <td>NaN</td>\n",
       "      <td>NaN</td>\n",
       "      <td>False</td>\n",
       "      <td>False</td>\n",
       "      <td>0</td>\n",
       "    </tr>\n",
       "    <tr>\n",
       "      <th>2173</th>\n",
       "      <td>15-1280</td>\n",
       "      <td>NaN</td>\n",
       "      <td>NaT</td>\n",
       "      <td>NaN</td>\n",
       "      <td>NaN</td>\n",
       "      <td>NaN</td>\n",
       "      <td>NaN</td>\n",
       "      <td>NaT</td>\n",
       "      <td>2015-10-08 08:36:03.517</td>\n",
       "      <td>0.7</td>\n",
       "      <td>NaN</td>\n",
       "      <td>NaN</td>\n",
       "      <td>False</td>\n",
       "      <td>False</td>\n",
       "      <td>0</td>\n",
       "    </tr>\n",
       "    <tr>\n",
       "      <th>2859</th>\n",
       "      <td>15-1927</td>\n",
       "      <td>谈姚芳</td>\n",
       "      <td>2016-12-31</td>\n",
       "      <td>第2周期</td>\n",
       "      <td>1.0</td>\n",
       "      <td>D3</td>\n",
       "      <td>FET</td>\n",
       "      <td>2017-04-29</td>\n",
       "      <td>2017-01-13 14:34:31.053</td>\n",
       "      <td>0.3</td>\n",
       "      <td>NaN</td>\n",
       "      <td>NaN</td>\n",
       "      <td>False</td>\n",
       "      <td>False</td>\n",
       "      <td>0</td>\n",
       "    </tr>\n",
       "    <tr>\n",
       "      <th>2860</th>\n",
       "      <td>15-1927</td>\n",
       "      <td>谈姚芳</td>\n",
       "      <td>2016-12-31</td>\n",
       "      <td>第4周期</td>\n",
       "      <td>1.0</td>\n",
       "      <td>D3</td>\n",
       "      <td>FET</td>\n",
       "      <td>2017-04-29</td>\n",
       "      <td>2017-01-13 14:34:31.053</td>\n",
       "      <td>0.3</td>\n",
       "      <td>NaN</td>\n",
       "      <td>NaN</td>\n",
       "      <td>False</td>\n",
       "      <td>False</td>\n",
       "      <td>0</td>\n",
       "    </tr>\n",
       "    <tr>\n",
       "      <th>2861</th>\n",
       "      <td>15-1927</td>\n",
       "      <td>谈姚芳</td>\n",
       "      <td>2017-04-29</td>\n",
       "      <td>第4周期</td>\n",
       "      <td>1.0</td>\n",
       "      <td>D3</td>\n",
       "      <td>FET</td>\n",
       "      <td>2017-11-02</td>\n",
       "      <td>2017-05-12 15:25:18.790</td>\n",
       "      <td>&amp;lt;0.6</td>\n",
       "      <td>NaN</td>\n",
       "      <td>NaN</td>\n",
       "      <td>False</td>\n",
       "      <td>False</td>\n",
       "      <td>0</td>\n",
       "    </tr>\n",
       "    <tr>\n",
       "      <th>2862</th>\n",
       "      <td>15-1927</td>\n",
       "      <td>谈姚芳</td>\n",
       "      <td>2017-11-02</td>\n",
       "      <td>第5周期</td>\n",
       "      <td>2.0</td>\n",
       "      <td>D3</td>\n",
       "      <td>FET</td>\n",
       "      <td>2018-03-01</td>\n",
       "      <td>NaT</td>\n",
       "      <td>NaN</td>\n",
       "      <td>NaN</td>\n",
       "      <td>NaN</td>\n",
       "      <td>False</td>\n",
       "      <td>False</td>\n",
       "      <td>0</td>\n",
       "    </tr>\n",
       "    <tr>\n",
       "      <th>2863</th>\n",
       "      <td>15-1927</td>\n",
       "      <td>谈姚芳</td>\n",
       "      <td>2018-03-01</td>\n",
       "      <td>第7周期</td>\n",
       "      <td>2.0</td>\n",
       "      <td>D2</td>\n",
       "      <td>FET</td>\n",
       "      <td>NaT</td>\n",
       "      <td>NaT</td>\n",
       "      <td>NaN</td>\n",
       "      <td>NaN</td>\n",
       "      <td>NaN</td>\n",
       "      <td>False</td>\n",
       "      <td>False</td>\n",
       "      <td>0</td>\n",
       "    </tr>\n",
       "    <tr>\n",
       "      <th>2864</th>\n",
       "      <td>15-1927</td>\n",
       "      <td>NaN</td>\n",
       "      <td>NaT</td>\n",
       "      <td>NaN</td>\n",
       "      <td>NaN</td>\n",
       "      <td>NaN</td>\n",
       "      <td>NaN</td>\n",
       "      <td>NaT</td>\n",
       "      <td>2015-12-10 10:18:16.533</td>\n",
       "      <td>0.5</td>\n",
       "      <td>NaN</td>\n",
       "      <td>NaN</td>\n",
       "      <td>False</td>\n",
       "      <td>False</td>\n",
       "      <td>0</td>\n",
       "    </tr>\n",
       "    <tr>\n",
       "      <th>2865</th>\n",
       "      <td>15-1927</td>\n",
       "      <td>NaN</td>\n",
       "      <td>NaT</td>\n",
       "      <td>NaN</td>\n",
       "      <td>NaN</td>\n",
       "      <td>NaN</td>\n",
       "      <td>NaN</td>\n",
       "      <td>NaT</td>\n",
       "      <td>2016-05-27 13:54:27.817</td>\n",
       "      <td>0.5</td>\n",
       "      <td>NaN</td>\n",
       "      <td>NaN</td>\n",
       "      <td>False</td>\n",
       "      <td>False</td>\n",
       "      <td>0</td>\n",
       "    </tr>\n",
       "    <tr>\n",
       "      <th>2866</th>\n",
       "      <td>15-1927</td>\n",
       "      <td>NaN</td>\n",
       "      <td>NaT</td>\n",
       "      <td>NaN</td>\n",
       "      <td>NaN</td>\n",
       "      <td>NaN</td>\n",
       "      <td>NaN</td>\n",
       "      <td>NaT</td>\n",
       "      <td>2016-09-19 14:37:55.530</td>\n",
       "      <td>0.2</td>\n",
       "      <td>NaN</td>\n",
       "      <td>NaN</td>\n",
       "      <td>False</td>\n",
       "      <td>False</td>\n",
       "      <td>0</td>\n",
       "    </tr>\n",
       "    <tr>\n",
       "      <th>3324</th>\n",
       "      <td>16-0088</td>\n",
       "      <td>朱燕</td>\n",
       "      <td>2018-09-10</td>\n",
       "      <td>第3周期</td>\n",
       "      <td>2.0</td>\n",
       "      <td>D3</td>\n",
       "      <td>FET</td>\n",
       "      <td>NaT</td>\n",
       "      <td>NaT</td>\n",
       "      <td>NaN</td>\n",
       "      <td>NaN</td>\n",
       "      <td>NaN</td>\n",
       "      <td>False</td>\n",
       "      <td>False</td>\n",
       "      <td>0</td>\n",
       "    </tr>\n",
       "    <tr>\n",
       "      <th>3325</th>\n",
       "      <td>16-0088</td>\n",
       "      <td>朱燕</td>\n",
       "      <td>2018-09-10</td>\n",
       "      <td>第5周期</td>\n",
       "      <td>1.0</td>\n",
       "      <td>D3</td>\n",
       "      <td>FET</td>\n",
       "      <td>NaT</td>\n",
       "      <td>NaT</td>\n",
       "      <td>NaN</td>\n",
       "      <td>NaN</td>\n",
       "      <td>NaN</td>\n",
       "      <td>False</td>\n",
       "      <td>False</td>\n",
       "      <td>0</td>\n",
       "    </tr>\n",
       "    <tr>\n",
       "      <th>3326</th>\n",
       "      <td>16-0088</td>\n",
       "      <td>NaN</td>\n",
       "      <td>NaT</td>\n",
       "      <td>NaN</td>\n",
       "      <td>NaN</td>\n",
       "      <td>NaN</td>\n",
       "      <td>NaN</td>\n",
       "      <td>NaT</td>\n",
       "      <td>2016-02-18 10:44:52.293</td>\n",
       "      <td>0.1</td>\n",
       "      <td>NaN</td>\n",
       "      <td>NaN</td>\n",
       "      <td>False</td>\n",
       "      <td>False</td>\n",
       "      <td>0</td>\n",
       "    </tr>\n",
       "    <tr>\n",
       "      <th>3977</th>\n",
       "      <td>16-0677</td>\n",
       "      <td>李秋芬</td>\n",
       "      <td>2016-08-29</td>\n",
       "      <td>第3周期</td>\n",
       "      <td>2.0</td>\n",
       "      <td>D3</td>\n",
       "      <td>FET</td>\n",
       "      <td>2016-10-26</td>\n",
       "      <td>2016-09-12 15:18:35.040</td>\n",
       "      <td>0.2</td>\n",
       "      <td>NaN</td>\n",
       "      <td>NaN</td>\n",
       "      <td>False</td>\n",
       "      <td>False</td>\n",
       "      <td>0</td>\n",
       "    </tr>\n",
       "    <tr>\n",
       "      <th>3978</th>\n",
       "      <td>16-0677</td>\n",
       "      <td>李秋芬</td>\n",
       "      <td>2016-10-26</td>\n",
       "      <td>第2周期</td>\n",
       "      <td>1.0</td>\n",
       "      <td>D2</td>\n",
       "      <td>FET</td>\n",
       "      <td>NaT</td>\n",
       "      <td>2016-11-09 15:48:28.700</td>\n",
       "      <td>0.1</td>\n",
       "      <td>NaN</td>\n",
       "      <td>NaN</td>\n",
       "      <td>False</td>\n",
       "      <td>False</td>\n",
       "      <td>0</td>\n",
       "    </tr>\n",
       "    <tr>\n",
       "      <th>3979</th>\n",
       "      <td>16-0677</td>\n",
       "      <td>李秋芬</td>\n",
       "      <td>2016-10-26</td>\n",
       "      <td>第4周期</td>\n",
       "      <td>1.0</td>\n",
       "      <td>D2</td>\n",
       "      <td>FET</td>\n",
       "      <td>NaT</td>\n",
       "      <td>2016-11-09 15:48:28.700</td>\n",
       "      <td>0.1</td>\n",
       "      <td>NaN</td>\n",
       "      <td>NaN</td>\n",
       "      <td>False</td>\n",
       "      <td>False</td>\n",
       "      <td>0</td>\n",
       "    </tr>\n",
       "    <tr>\n",
       "      <th>3980</th>\n",
       "      <td>16-0677</td>\n",
       "      <td>NaN</td>\n",
       "      <td>NaT</td>\n",
       "      <td>NaN</td>\n",
       "      <td>NaN</td>\n",
       "      <td>NaN</td>\n",
       "      <td>NaN</td>\n",
       "      <td>NaT</td>\n",
       "      <td>2016-05-27 14:15:51.053</td>\n",
       "      <td>0.2</td>\n",
       "      <td>NaN</td>\n",
       "      <td>NaN</td>\n",
       "      <td>False</td>\n",
       "      <td>False</td>\n",
       "      <td>0</td>\n",
       "    </tr>\n",
       "    <tr>\n",
       "      <th>4120</th>\n",
       "      <td>16-0792</td>\n",
       "      <td>鲁旦旦</td>\n",
       "      <td>2016-10-17</td>\n",
       "      <td>第2周期</td>\n",
       "      <td>2.0</td>\n",
       "      <td>D3</td>\n",
       "      <td>FET</td>\n",
       "      <td>2017-01-10</td>\n",
       "      <td>2016-11-03 15:00:50.163</td>\n",
       "      <td>29.9</td>\n",
       "      <td>HCG 3.4</td>\n",
       "      <td>NaN</td>\n",
       "      <td>False</td>\n",
       "      <td>False</td>\n",
       "      <td>0</td>\n",
       "    </tr>\n",
       "    <tr>\n",
       "      <th>4121</th>\n",
       "      <td>16-0792</td>\n",
       "      <td>鲁旦旦</td>\n",
       "      <td>2017-01-10</td>\n",
       "      <td>第1周期</td>\n",
       "      <td>1.0</td>\n",
       "      <td>D2</td>\n",
       "      <td>FET</td>\n",
       "      <td>NaT</td>\n",
       "      <td>2017-01-24 13:41:08.937</td>\n",
       "      <td>0.1</td>\n",
       "      <td>NaN</td>\n",
       "      <td>NaN</td>\n",
       "      <td>False</td>\n",
       "      <td>False</td>\n",
       "      <td>0</td>\n",
       "    </tr>\n",
       "    <tr>\n",
       "      <th>4122</th>\n",
       "      <td>16-0792</td>\n",
       "      <td>鲁旦旦</td>\n",
       "      <td>2017-01-10</td>\n",
       "      <td>第2周期</td>\n",
       "      <td>1.0</td>\n",
       "      <td>D2</td>\n",
       "      <td>FET</td>\n",
       "      <td>NaT</td>\n",
       "      <td>2017-01-24 13:41:08.937</td>\n",
       "      <td>0.1</td>\n",
       "      <td>NaN</td>\n",
       "      <td>NaN</td>\n",
       "      <td>False</td>\n",
       "      <td>False</td>\n",
       "      <td>0</td>\n",
       "    </tr>\n",
       "    <tr>\n",
       "      <th>4123</th>\n",
       "      <td>16-0792</td>\n",
       "      <td>NaN</td>\n",
       "      <td>NaT</td>\n",
       "      <td>NaN</td>\n",
       "      <td>NaN</td>\n",
       "      <td>NaN</td>\n",
       "      <td>NaN</td>\n",
       "      <td>NaT</td>\n",
       "      <td>2017-09-29 14:28:37.887</td>\n",
       "      <td>1048</td>\n",
       "      <td>,胚芽 18/17mm，胎心171/168mm</td>\n",
       "      <td>双胎,双胎，两周后复查B超</td>\n",
       "      <td>True</td>\n",
       "      <td>True</td>\n",
       "      <td>2</td>\n",
       "    </tr>\n",
       "    <tr>\n",
       "      <th>6977</th>\n",
       "      <td>17-0939</td>\n",
       "      <td>张盼</td>\n",
       "      <td>2018-04-23</td>\n",
       "      <td>第3周期</td>\n",
       "      <td>1.0</td>\n",
       "      <td>D6，</td>\n",
       "      <td>FET</td>\n",
       "      <td>2018-07-02</td>\n",
       "      <td>2018-05-04 11:08:29.160</td>\n",
       "      <td>134</td>\n",
       "      <td>血HCG1.2,血HCG 31.8</td>\n",
       "      <td>,1.黄体酮支持同前2.5.8日血HCG 3.如腹痛、阴道出血多随诊。,</td>\n",
       "      <td>False</td>\n",
       "      <td>False</td>\n",
       "      <td>0</td>\n",
       "    </tr>\n",
       "    <tr>\n",
       "      <th>6978</th>\n",
       "      <td>17-0939</td>\n",
       "      <td>张盼</td>\n",
       "      <td>2018-07-02</td>\n",
       "      <td>第1周期</td>\n",
       "      <td>1.0</td>\n",
       "      <td>D6</td>\n",
       "      <td>FET</td>\n",
       "      <td>NaT</td>\n",
       "      <td>2018-07-13 11:07:36.427</td>\n",
       "      <td>0.5</td>\n",
       "      <td>NaN</td>\n",
       "      <td>1.停药</td>\n",
       "      <td>False</td>\n",
       "      <td>False</td>\n",
       "      <td>0</td>\n",
       "    </tr>\n",
       "    <tr>\n",
       "      <th>6979</th>\n",
       "      <td>17-0939</td>\n",
       "      <td>张盼</td>\n",
       "      <td>2018-07-02</td>\n",
       "      <td>第3周期</td>\n",
       "      <td>1.0</td>\n",
       "      <td>D6</td>\n",
       "      <td>FET</td>\n",
       "      <td>NaT</td>\n",
       "      <td>2018-07-13 11:07:36.427</td>\n",
       "      <td>0.5</td>\n",
       "      <td>NaN</td>\n",
       "      <td>1.停药</td>\n",
       "      <td>False</td>\n",
       "      <td>False</td>\n",
       "      <td>0</td>\n",
       "    </tr>\n",
       "    <tr>\n",
       "      <th>7018</th>\n",
       "      <td>17-0993</td>\n",
       "      <td>刘玉梅</td>\n",
       "      <td>2018-08-07</td>\n",
       "      <td>第5周期</td>\n",
       "      <td>2.0</td>\n",
       "      <td>D3</td>\n",
       "      <td>FET</td>\n",
       "      <td>2018-09-12</td>\n",
       "      <td>2018-08-21 18:29:59.083</td>\n",
       "      <td>1.6</td>\n",
       "      <td>NaN</td>\n",
       "      <td>1.停药</td>\n",
       "      <td>False</td>\n",
       "      <td>False</td>\n",
       "      <td>0</td>\n",
       "    </tr>\n",
       "    <tr>\n",
       "      <th>7019</th>\n",
       "      <td>17-0993</td>\n",
       "      <td>刘玉梅</td>\n",
       "      <td>2018-09-12</td>\n",
       "      <td>第4周期</td>\n",
       "      <td>2.0</td>\n",
       "      <td>D3</td>\n",
       "      <td>FET</td>\n",
       "      <td>NaT</td>\n",
       "      <td>NaT</td>\n",
       "      <td>NaN</td>\n",
       "      <td>NaN</td>\n",
       "      <td>NaN</td>\n",
       "      <td>False</td>\n",
       "      <td>False</td>\n",
       "      <td>0</td>\n",
       "    </tr>\n",
       "    <tr>\n",
       "      <th>7020</th>\n",
       "      <td>17-0993</td>\n",
       "      <td>刘玉梅</td>\n",
       "      <td>2018-09-12</td>\n",
       "      <td>第7周期</td>\n",
       "      <td>2.0</td>\n",
       "      <td>D3</td>\n",
       "      <td>FET</td>\n",
       "      <td>NaT</td>\n",
       "      <td>NaT</td>\n",
       "      <td>NaN</td>\n",
       "      <td>NaN</td>\n",
       "      <td>NaN</td>\n",
       "      <td>False</td>\n",
       "      <td>False</td>\n",
       "      <td>0</td>\n",
       "    </tr>\n",
       "    <tr>\n",
       "      <th>8219</th>\n",
       "      <td>18-0070</td>\n",
       "      <td>王笑歌</td>\n",
       "      <td>2018-09-17</td>\n",
       "      <td>第1周期</td>\n",
       "      <td>2.0</td>\n",
       "      <td>D3</td>\n",
       "      <td>FET</td>\n",
       "      <td>NaT</td>\n",
       "      <td>NaT</td>\n",
       "      <td>NaN</td>\n",
       "      <td>NaN</td>\n",
       "      <td>NaN</td>\n",
       "      <td>False</td>\n",
       "      <td>False</td>\n",
       "      <td>0</td>\n",
       "    </tr>\n",
       "    <tr>\n",
       "      <th>8220</th>\n",
       "      <td>18-0070</td>\n",
       "      <td>王笑歌</td>\n",
       "      <td>2018-09-17</td>\n",
       "      <td>第3周期</td>\n",
       "      <td>2.0</td>\n",
       "      <td>D3</td>\n",
       "      <td>FET</td>\n",
       "      <td>NaT</td>\n",
       "      <td>NaT</td>\n",
       "      <td>NaN</td>\n",
       "      <td>NaN</td>\n",
       "      <td>NaN</td>\n",
       "      <td>False</td>\n",
       "      <td>False</td>\n",
       "      <td>0</td>\n",
       "    </tr>\n",
       "  </tbody>\n",
       "</table>\n",
       "</div>"
      ],
      "text/plain": [
       "        IVF编号   姓名       移植日期  取卵周期  移植胚胎个数 移植周期 ART方式    下一次移植日期  \\\n",
       "843   15-0011  岳金霞 2015-08-03  第1周期     1.0   D3   FET        NaT   \n",
       "844   15-0011  岳金霞 2015-08-03  第2周期     1.0   D3   FET        NaT   \n",
       "1238  15-0414  马晓梅 2016-05-17  第2周期     1.0   D6   FET        NaT   \n",
       "1239  15-0414  马晓梅 2016-05-17  第3周期     1.0   D6   FET        NaT   \n",
       "1240  15-0414  NaN        NaT   NaN     NaN  NaN   NaN        NaT   \n",
       "2000  15-1135  毛玉怡 2016-01-26  第1周期     NaN   D3   FET        NaT   \n",
       "2001  15-1135  毛玉怡 2016-01-26  第2周期     1.0   D3   FET        NaT   \n",
       "2002  15-1135  NaN        NaT   NaN     NaN  NaN   NaN        NaT   \n",
       "2171  15-1280   孙燕 2017-04-25  第2周期     1.0   D3   FET        NaT   \n",
       "2172  15-1280   孙燕 2017-04-25  第4周期     1.0   D3   FET        NaT   \n",
       "2173  15-1280  NaN        NaT   NaN     NaN  NaN   NaN        NaT   \n",
       "2859  15-1927  谈姚芳 2016-12-31  第2周期     1.0   D3   FET 2017-04-29   \n",
       "2860  15-1927  谈姚芳 2016-12-31  第4周期     1.0   D3   FET 2017-04-29   \n",
       "2861  15-1927  谈姚芳 2017-04-29  第4周期     1.0   D3   FET 2017-11-02   \n",
       "2862  15-1927  谈姚芳 2017-11-02  第5周期     2.0   D3   FET 2018-03-01   \n",
       "2863  15-1927  谈姚芳 2018-03-01  第7周期     2.0   D2   FET        NaT   \n",
       "2864  15-1927  NaN        NaT   NaN     NaN  NaN   NaN        NaT   \n",
       "2865  15-1927  NaN        NaT   NaN     NaN  NaN   NaN        NaT   \n",
       "2866  15-1927  NaN        NaT   NaN     NaN  NaN   NaN        NaT   \n",
       "3324  16-0088   朱燕 2018-09-10  第3周期     2.0   D3   FET        NaT   \n",
       "3325  16-0088   朱燕 2018-09-10  第5周期     1.0   D3   FET        NaT   \n",
       "3326  16-0088  NaN        NaT   NaN     NaN  NaN   NaN        NaT   \n",
       "3977  16-0677  李秋芬 2016-08-29  第3周期     2.0   D3   FET 2016-10-26   \n",
       "3978  16-0677  李秋芬 2016-10-26  第2周期     1.0   D2   FET        NaT   \n",
       "3979  16-0677  李秋芬 2016-10-26  第4周期     1.0   D2   FET        NaT   \n",
       "3980  16-0677  NaN        NaT   NaN     NaN  NaN   NaN        NaT   \n",
       "4120  16-0792  鲁旦旦 2016-10-17  第2周期     2.0   D3   FET 2017-01-10   \n",
       "4121  16-0792  鲁旦旦 2017-01-10  第1周期     1.0   D2   FET        NaT   \n",
       "4122  16-0792  鲁旦旦 2017-01-10  第2周期     1.0   D2   FET        NaT   \n",
       "4123  16-0792  NaN        NaT   NaN     NaN  NaN   NaN        NaT   \n",
       "6977  17-0939   张盼 2018-04-23  第3周期     1.0  D6，   FET 2018-07-02   \n",
       "6978  17-0939   张盼 2018-07-02  第1周期     1.0   D6   FET        NaT   \n",
       "6979  17-0939   张盼 2018-07-02  第3周期     1.0   D6   FET        NaT   \n",
       "7018  17-0993  刘玉梅 2018-08-07  第5周期     2.0   D3   FET 2018-09-12   \n",
       "7019  17-0993  刘玉梅 2018-09-12  第4周期     2.0   D3   FET        NaT   \n",
       "7020  17-0993  刘玉梅 2018-09-12  第7周期     2.0   D3   FET        NaT   \n",
       "8219  18-0070  王笑歌 2018-09-17  第1周期     2.0   D3   FET        NaT   \n",
       "8220  18-0070  王笑歌 2018-09-17  第3周期     2.0   D3   FET        NaT   \n",
       "\n",
       "                    新鲜冷冻创建时间          血β_HCG                     TV_B  \\\n",
       "843                      NaT             NaN                      NaN   \n",
       "844                      NaT             NaN                      NaN   \n",
       "1238 2016-05-31 15:41:17.927             0.2                      NaN   \n",
       "1239 2016-05-31 15:41:17.927             0.2                      NaN   \n",
       "1240 2016-06-08 09:25:33.647             0.2                      NaN   \n",
       "2000 2016-09-23 10:22:32.050  TβHCG2:0.2 U/L                      NaN   \n",
       "2001 2016-09-23 10:22:32.050  TβHCG2:0.2 U/L                      NaN   \n",
       "2002 2015-11-04 12:57:17.640             0.1                      NaN   \n",
       "2171                     NaT             NaN                      NaN   \n",
       "2172                     NaT             NaN                      NaN   \n",
       "2173 2015-10-08 08:36:03.517             0.7                      NaN   \n",
       "2859 2017-01-13 14:34:31.053             0.3                      NaN   \n",
       "2860 2017-01-13 14:34:31.053             0.3                      NaN   \n",
       "2861 2017-05-12 15:25:18.790         &lt;0.6                      NaN   \n",
       "2862                     NaT             NaN                      NaN   \n",
       "2863                     NaT             NaN                      NaN   \n",
       "2864 2015-12-10 10:18:16.533             0.5                      NaN   \n",
       "2865 2016-05-27 13:54:27.817             0.5                      NaN   \n",
       "2866 2016-09-19 14:37:55.530             0.2                      NaN   \n",
       "3324                     NaT             NaN                      NaN   \n",
       "3325                     NaT             NaN                      NaN   \n",
       "3326 2016-02-18 10:44:52.293             0.1                      NaN   \n",
       "3977 2016-09-12 15:18:35.040             0.2                      NaN   \n",
       "3978 2016-11-09 15:48:28.700             0.1                      NaN   \n",
       "3979 2016-11-09 15:48:28.700             0.1                      NaN   \n",
       "3980 2016-05-27 14:15:51.053             0.2                      NaN   \n",
       "4120 2016-11-03 15:00:50.163            29.9                  HCG 3.4   \n",
       "4121 2017-01-24 13:41:08.937             0.1                      NaN   \n",
       "4122 2017-01-24 13:41:08.937             0.1                      NaN   \n",
       "4123 2017-09-29 14:28:37.887            1048  ,胚芽 18/17mm，胎心171/168mm   \n",
       "6977 2018-05-04 11:08:29.160             134        血HCG1.2,血HCG 31.8   \n",
       "6978 2018-07-13 11:07:36.427             0.5                      NaN   \n",
       "6979 2018-07-13 11:07:36.427             0.5                      NaN   \n",
       "7018 2018-08-21 18:29:59.083             1.6                      NaN   \n",
       "7019                     NaT             NaN                      NaN   \n",
       "7020                     NaT             NaN                      NaN   \n",
       "8219                     NaT             NaN                      NaN   \n",
       "8220                     NaT             NaN                      NaN   \n",
       "\n",
       "                                        诊断   移植成功     双胎  移植成功个数  \n",
       "843                                    NaN  False  False       0  \n",
       "844                                    NaN  False  False       0  \n",
       "1238                                   NaN  False  False       0  \n",
       "1239                                   NaN  False  False       0  \n",
       "1240                                   NaN  False  False       0  \n",
       "2000                                   NaN  False  False       0  \n",
       "2001                                   NaN  False  False       0  \n",
       "2002                                   NaN  False  False       0  \n",
       "2171                                   NaN  False  False       0  \n",
       "2172                                   NaN  False  False       0  \n",
       "2173                                   NaN  False  False       0  \n",
       "2859                                   NaN  False  False       0  \n",
       "2860                                   NaN  False  False       0  \n",
       "2861                                   NaN  False  False       0  \n",
       "2862                                   NaN  False  False       0  \n",
       "2863                                   NaN  False  False       0  \n",
       "2864                                   NaN  False  False       0  \n",
       "2865                                   NaN  False  False       0  \n",
       "2866                                   NaN  False  False       0  \n",
       "3324                                   NaN  False  False       0  \n",
       "3325                                   NaN  False  False       0  \n",
       "3326                                   NaN  False  False       0  \n",
       "3977                                   NaN  False  False       0  \n",
       "3978                                   NaN  False  False       0  \n",
       "3979                                   NaN  False  False       0  \n",
       "3980                                   NaN  False  False       0  \n",
       "4120                                   NaN  False  False       0  \n",
       "4121                                   NaN  False  False       0  \n",
       "4122                                   NaN  False  False       0  \n",
       "4123                         双胎,双胎，两周后复查B超   True   True       2  \n",
       "6977  ,1.黄体酮支持同前2.5.8日血HCG 3.如腹痛、阴道出血多随诊。,  False  False       0  \n",
       "6978                                  1.停药  False  False       0  \n",
       "6979                                  1.停药  False  False       0  \n",
       "7018                                  1.停药  False  False       0  \n",
       "7019                                   NaN  False  False       0  \n",
       "7020                                   NaN  False  False       0  \n",
       "8219                                   NaN  False  False       0  \n",
       "8220                                   NaN  False  False       0  "
      ]
     },
     "execution_count": 2072,
     "metadata": {},
     "output_type": "execute_result"
    }
   ],
   "source": [
    "#检查同一移植日期有多行记录的\n",
    "df2_merge[df2_merge['IVF编号'].isin(mytab_mgd[mytab_mgd['总行数']>=2]['IVF编号'])]\n",
    "#经检查发现诊断记录和判断是否受孕没有错误"
   ]
  },
  {
   "cell_type": "code",
   "execution_count": 2247,
   "metadata": {},
   "outputs": [
    {
     "data": {
      "text/html": [
       "<div>\n",
       "<style scoped>\n",
       "    .dataframe tbody tr th:only-of-type {\n",
       "        vertical-align: middle;\n",
       "    }\n",
       "\n",
       "    .dataframe tbody tr th {\n",
       "        vertical-align: top;\n",
       "    }\n",
       "\n",
       "    .dataframe thead th {\n",
       "        text-align: right;\n",
       "    }\n",
       "</style>\n",
       "<table border=\"1\" class=\"dataframe\">\n",
       "  <thead>\n",
       "    <tr style=\"text-align: right;\">\n",
       "      <th></th>\n",
       "      <th>IVF编号</th>\n",
       "      <th>移植日期</th>\n",
       "      <th>取卵周期</th>\n",
       "    </tr>\n",
       "  </thead>\n",
       "  <tbody>\n",
       "    <tr>\n",
       "      <th>count</th>\n",
       "      <td>8913</td>\n",
       "      <td>7323</td>\n",
       "      <td>7324</td>\n",
       "    </tr>\n",
       "    <tr>\n",
       "      <th>unique</th>\n",
       "      <td>6685</td>\n",
       "      <td>1263</td>\n",
       "      <td>18</td>\n",
       "    </tr>\n",
       "    <tr>\n",
       "      <th>top</th>\n",
       "      <td>14-1409</td>\n",
       "      <td>2017-02-28 00:00:00</td>\n",
       "      <td>第1周期</td>\n",
       "    </tr>\n",
       "    <tr>\n",
       "      <th>freq</th>\n",
       "      <td>9</td>\n",
       "      <td>20</td>\n",
       "      <td>5442</td>\n",
       "    </tr>\n",
       "    <tr>\n",
       "      <th>first</th>\n",
       "      <td>NaN</td>\n",
       "      <td>2014-09-02 00:00:00</td>\n",
       "      <td>NaN</td>\n",
       "    </tr>\n",
       "    <tr>\n",
       "      <th>last</th>\n",
       "      <td>NaN</td>\n",
       "      <td>2018-09-21 00:00:00</td>\n",
       "      <td>NaN</td>\n",
       "    </tr>\n",
       "  </tbody>\n",
       "</table>\n",
       "</div>"
      ],
      "text/plain": [
       "          IVF编号                 移植日期  取卵周期\n",
       "count      8913                 7323  7324\n",
       "unique     6685                 1263    18\n",
       "top     14-1409  2017-02-28 00:00:00  第1周期\n",
       "freq          9                   20  5442\n",
       "first       NaN  2014-09-02 00:00:00   NaN\n",
       "last        NaN  2018-09-21 00:00:00   NaN"
      ]
     },
     "execution_count": 2247,
     "metadata": {},
     "output_type": "execute_result"
    }
   ],
   "source": [
    "#得到了移植和诊断受孕的处理后结果df2_merge，且没有删除缺数据的条目，使用时仅需要添加筛选条件即可\n",
    "df2_merge[['IVF编号','移植日期','取卵周期']].describe()"
   ]
  },
  {
   "cell_type": "markdown",
   "metadata": {},
   "source": [
    "### 合并表格"
   ]
  },
  {
   "cell_type": "code",
   "execution_count": 2080,
   "metadata": {},
   "outputs": [
    {
     "data": {
      "text/plain": [
       "count        8770\n",
       "unique       8770\n",
       "top       18-0960\n",
       "freq            1\n",
       "Name: IVF编号, dtype: object"
      ]
     },
     "execution_count": 2080,
     "metadata": {},
     "output_type": "execute_result"
    }
   ],
   "source": [
    "#表1：男女基本信息\n",
    "df1_pro['IVF编号'].describe()"
   ]
  },
  {
   "cell_type": "code",
   "execution_count": 2113,
   "metadata": {},
   "outputs": [
    {
     "data": {
      "text/plain": [
       "count       12319\n",
       "unique       7080\n",
       "top       17-1151\n",
       "freq           19\n",
       "Name: IVF编号, dtype: object"
      ]
     },
     "execution_count": 2113,
     "metadata": {},
     "output_type": "execute_result"
    }
   ],
   "source": [
    "#表2：男性精液检查记录\n",
    "df3_pro['IVF编号'].describe()"
   ]
  },
  {
   "cell_type": "code",
   "execution_count": 2182,
   "metadata": {},
   "outputs": [
    {
     "data": {
      "text/plain": [
       "count       12302\n",
       "unique       7916\n",
       "top       15-1217\n",
       "freq           26\n",
       "Name: IVF编号, dtype: object"
      ]
     },
     "execution_count": 2182,
     "metadata": {},
     "output_type": "execute_result"
    }
   ],
   "source": [
    "#表2：取卵记录\n",
    "df2_left['IVF编号'].describe()"
   ]
  },
  {
   "cell_type": "code",
   "execution_count": 2074,
   "metadata": {},
   "outputs": [
    {
     "data": {
      "text/plain": [
       "count        8913\n",
       "unique       6685\n",
       "top       14-1409\n",
       "freq            9\n",
       "Name: IVF编号, dtype: object"
      ]
     },
     "execution_count": 2074,
     "metadata": {},
     "output_type": "execute_result"
    }
   ],
   "source": [
    "#表3：移植和诊断记录\n",
    "df2_merge['IVF编号'].describe()"
   ]
  },
  {
   "cell_type": "markdown",
   "metadata": {},
   "source": [
    "#### 合并取卵、精液、基本信息记录"
   ]
  },
  {
   "cell_type": "code",
   "execution_count": 2673,
   "metadata": {
    "scrolled": true
   },
   "outputs": [],
   "source": [
    "#左合并取卵记录和精液记录\n",
    "df_fert = df2_left.merge(df3_pro, on='IVF编号', how='left')"
   ]
  },
  {
   "cell_type": "code",
   "execution_count": 2674,
   "metadata": {},
   "outputs": [],
   "source": [
    "#筛出在两次取卵之间的精液记录，并且保留最接近的那一次\n",
    "df_fert = df_fert[(df_fert['检查组开始时间'] > df_fert['上一次取卵日期']) & (df_fert['检查组结束时间'] <= df_fert['取卵日期'])]\\\n",
    "            .drop_duplicates(subset=['IVF编号','取卵周期'], keep='last')"
   ]
  },
  {
   "cell_type": "code",
   "execution_count": 2675,
   "metadata": {},
   "outputs": [],
   "source": [
    "#合并入男女方基本信息\n",
    "df_fert = df_fert.merge(df1_pro, on='IVF编号', how='left')"
   ]
  },
  {
   "cell_type": "code",
   "execution_count": 2676,
   "metadata": {},
   "outputs": [
    {
     "data": {
      "text/html": [
       "<div>\n",
       "<style scoped>\n",
       "    .dataframe tbody tr th:only-of-type {\n",
       "        vertical-align: middle;\n",
       "    }\n",
       "\n",
       "    .dataframe tbody tr th {\n",
       "        vertical-align: top;\n",
       "    }\n",
       "\n",
       "    .dataframe thead th {\n",
       "        text-align: right;\n",
       "    }\n",
       "</style>\n",
       "<table border=\"1\" class=\"dataframe\">\n",
       "  <thead>\n",
       "    <tr style=\"text-align: right;\">\n",
       "      <th></th>\n",
       "      <th>IVF编号</th>\n",
       "      <th>取卵周期</th>\n",
       "      <th>检查组开始时间</th>\n",
       "    </tr>\n",
       "  </thead>\n",
       "  <tbody>\n",
       "    <tr>\n",
       "      <th>count</th>\n",
       "      <td>6833</td>\n",
       "      <td>6833</td>\n",
       "      <td>6833</td>\n",
       "    </tr>\n",
       "    <tr>\n",
       "      <th>unique</th>\n",
       "      <td>6376</td>\n",
       "      <td>12</td>\n",
       "      <td>1037</td>\n",
       "    </tr>\n",
       "    <tr>\n",
       "      <th>top</th>\n",
       "      <td>16-1421</td>\n",
       "      <td>第1周期</td>\n",
       "      <td>2017-02-17 00:00:00</td>\n",
       "    </tr>\n",
       "    <tr>\n",
       "      <th>freq</th>\n",
       "      <td>4</td>\n",
       "      <td>6194</td>\n",
       "      <td>23</td>\n",
       "    </tr>\n",
       "    <tr>\n",
       "      <th>first</th>\n",
       "      <td>NaN</td>\n",
       "      <td>NaN</td>\n",
       "      <td>2009-12-14 00:00:00</td>\n",
       "    </tr>\n",
       "    <tr>\n",
       "      <th>last</th>\n",
       "      <td>NaN</td>\n",
       "      <td>NaN</td>\n",
       "      <td>2018-01-02 00:00:00</td>\n",
       "    </tr>\n",
       "  </tbody>\n",
       "</table>\n",
       "</div>"
      ],
      "text/plain": [
       "          IVF编号  取卵周期              检查组开始时间\n",
       "count      6833  6833                 6833\n",
       "unique     6376    12                 1037\n",
       "top     16-1421  第1周期  2017-02-17 00:00:00\n",
       "freq          4  6194                   23\n",
       "first       NaN   NaN  2009-12-14 00:00:00\n",
       "last        NaN   NaN  2018-01-02 00:00:00"
      ]
     },
     "execution_count": 2676,
     "metadata": {},
     "output_type": "execute_result"
    }
   ],
   "source": [
    "#得到了最终取卵授精结果表\n",
    "df_fert[['IVF编号','取卵周期','检查组开始时间']].describe()"
   ]
  },
  {
   "cell_type": "code",
   "execution_count": 2684,
   "metadata": {},
   "outputs": [],
   "source": [
    "#筛选后的结果表格\n",
    "df_fert_fil = df_fert[(df_fert['取卵周期'].str.contains('第1周期|第2周期|第3周期')) \\\n",
    "        & ((df_fert['取卵日期'] - df_fert['女方生日']) <= pd.Timedelta(35*365, 'd')) \\\n",
    "        & (df_fert['诊断'].str.contains('染色体异常|PCOS|排卵障碍|子宫内膜异位症') == False) \\\n",
    "        & ((df_fert['授精方式']=='ICSI,') | (df_fert['授精方式']=='IVF,'))\\\n",
    "        & (df_fert['形态正常'].notna())\\\n",
    "        & (df_fert['孕育史'].str.contains('[0-9]-[0-9]-[3-9]-[0-9]|[0-9]-[0-9]-1[0-9]-[0-9]') == False)\\\n",
    "        & (df_fert['获卵'] <= 30)]"
   ]
  },
  {
   "cell_type": "code",
   "execution_count": 2689,
   "metadata": {},
   "outputs": [
    {
     "data": {
      "text/html": [
       "<div>\n",
       "<style scoped>\n",
       "    .dataframe tbody tr th:only-of-type {\n",
       "        vertical-align: middle;\n",
       "    }\n",
       "\n",
       "    .dataframe tbody tr th {\n",
       "        vertical-align: top;\n",
       "    }\n",
       "\n",
       "    .dataframe thead th {\n",
       "        text-align: right;\n",
       "    }\n",
       "</style>\n",
       "<table border=\"1\" class=\"dataframe\">\n",
       "  <thead>\n",
       "    <tr style=\"text-align: right;\">\n",
       "      <th></th>\n",
       "      <th>IVF编号</th>\n",
       "      <th>取卵周期</th>\n",
       "      <th>检查组开始时间</th>\n",
       "    </tr>\n",
       "  </thead>\n",
       "  <tbody>\n",
       "    <tr>\n",
       "      <th>count</th>\n",
       "      <td>2502</td>\n",
       "      <td>2502</td>\n",
       "      <td>2502</td>\n",
       "    </tr>\n",
       "    <tr>\n",
       "      <th>unique</th>\n",
       "      <td>2410</td>\n",
       "      <td>3</td>\n",
       "      <td>751</td>\n",
       "    </tr>\n",
       "    <tr>\n",
       "      <th>top</th>\n",
       "      <td>16-2241</td>\n",
       "      <td>第1周期</td>\n",
       "      <td>2017-06-27 00:00:00</td>\n",
       "    </tr>\n",
       "    <tr>\n",
       "      <th>freq</th>\n",
       "      <td>3</td>\n",
       "      <td>2348</td>\n",
       "      <td>14</td>\n",
       "    </tr>\n",
       "    <tr>\n",
       "      <th>first</th>\n",
       "      <td>NaN</td>\n",
       "      <td>NaN</td>\n",
       "      <td>2014-06-10 00:00:00</td>\n",
       "    </tr>\n",
       "    <tr>\n",
       "      <th>last</th>\n",
       "      <td>NaN</td>\n",
       "      <td>NaN</td>\n",
       "      <td>2017-12-22 00:00:00</td>\n",
       "    </tr>\n",
       "  </tbody>\n",
       "</table>\n",
       "</div>"
      ],
      "text/plain": [
       "          IVF编号  取卵周期              检查组开始时间\n",
       "count      2502  2502                 2502\n",
       "unique     2410     3                  751\n",
       "top     16-2241  第1周期  2017-06-27 00:00:00\n",
       "freq          3  2348                   14\n",
       "first       NaN   NaN  2014-06-10 00:00:00\n",
       "last        NaN   NaN  2017-12-22 00:00:00"
      ]
     },
     "execution_count": 2689,
     "metadata": {},
     "output_type": "execute_result"
    }
   ],
   "source": [
    "df_fert_fil[['IVF编号','取卵周期','检查组开始时间']].describe()"
   ]
  },
  {
   "cell_type": "markdown",
   "metadata": {},
   "source": [
    "#### 合并移植诊断表(df2_merge)和取卵授精表(df_fert)"
   ]
  },
  {
   "cell_type": "code",
   "execution_count": 2685,
   "metadata": {},
   "outputs": [],
   "source": [
    "#内合并移植诊断表和取卵授精表\n",
    "df_preg = df2_merge.merge(df_fert, on=['IVF编号','取卵周期'], how='inner')"
   ]
  },
  {
   "cell_type": "code",
   "execution_count": 2686,
   "metadata": {},
   "outputs": [
    {
     "data": {
      "text/html": [
       "<div>\n",
       "<style scoped>\n",
       "    .dataframe tbody tr th:only-of-type {\n",
       "        vertical-align: middle;\n",
       "    }\n",
       "\n",
       "    .dataframe tbody tr th {\n",
       "        vertical-align: top;\n",
       "    }\n",
       "\n",
       "    .dataframe thead th {\n",
       "        text-align: right;\n",
       "    }\n",
       "</style>\n",
       "<table border=\"1\" class=\"dataframe\">\n",
       "  <thead>\n",
       "    <tr style=\"text-align: right;\">\n",
       "      <th></th>\n",
       "      <th>IVF编号</th>\n",
       "      <th>取卵周期</th>\n",
       "    </tr>\n",
       "  </thead>\n",
       "  <tbody>\n",
       "    <tr>\n",
       "      <th>count</th>\n",
       "      <td>4714</td>\n",
       "      <td>4714</td>\n",
       "    </tr>\n",
       "    <tr>\n",
       "      <th>unique</th>\n",
       "      <td>4235</td>\n",
       "      <td>8</td>\n",
       "    </tr>\n",
       "    <tr>\n",
       "      <th>top</th>\n",
       "      <td>15-2022</td>\n",
       "      <td>第1周期</td>\n",
       "    </tr>\n",
       "    <tr>\n",
       "      <th>freq</th>\n",
       "      <td>4</td>\n",
       "      <td>4458</td>\n",
       "    </tr>\n",
       "  </tbody>\n",
       "</table>\n",
       "</div>"
      ],
      "text/plain": [
       "          IVF编号  取卵周期\n",
       "count      4714  4714\n",
       "unique     4235     8\n",
       "top     15-2022  第1周期\n",
       "freq          4  4458"
      ]
     },
     "execution_count": 2686,
     "metadata": {},
     "output_type": "execute_result"
    }
   ],
   "source": [
    "#得到了最终受孕结果表\n",
    "df_preg[['IVF编号','取卵周期']].describe()"
   ]
  },
  {
   "cell_type": "code",
   "execution_count": 2708,
   "metadata": {},
   "outputs": [],
   "source": [
    "#筛选后的结果（新增对移植和诊断信息的筛选）\n",
    "df_preg_fil = df_preg[(df_preg['取卵周期'].str.contains('第1周期|第2周期|第3周期')) \\\n",
    "        & ((df_preg['取卵日期'] - df_preg['女方生日']) <= pd.Timedelta(35*365, 'd')) \\\n",
    "        & (df_preg['诊断_y'].str.contains('染色体异常|PCOS|排卵障碍|子宫内膜异位症') == False) \\\n",
    "        & ((df_preg['授精方式']=='ICSI,') | (df_preg['授精方式']=='IVF,'))\\\n",
    "        & (df_preg['形态正常'].notna())\\\n",
    "        & (df_preg['孕育史'].str.contains('[0-9]-[0-9]-[3-9]-[0-9]|[0-9]-[0-9]-1[0-9]-[0-9]') == False)\\\n",
    "        & (df_preg['获卵'] <= 30)\\\n",
    "        & (df_preg['移植胚胎个数'].notna())\\\n",
    "        & (df_preg['新鲜冷冻创建时间'].notna() | df_preg['下一次移植日期'].notna())]"
   ]
  },
  {
   "cell_type": "code",
   "execution_count": 2709,
   "metadata": {},
   "outputs": [
    {
     "data": {
      "text/plain": [
       "count        1615\n",
       "unique       1476\n",
       "top       16-1099\n",
       "freq            3\n",
       "Name: IVF编号, dtype: object"
      ]
     },
     "execution_count": 2709,
     "metadata": {},
     "output_type": "execute_result"
    }
   ],
   "source": [
    "df_preg_fil['IVF编号'].describe()"
   ]
  },
  {
   "cell_type": "markdown",
   "metadata": {},
   "source": [
    "### 处理产科数据"
   ]
  },
  {
   "cell_type": "code",
   "execution_count": 2430,
   "metadata": {},
   "outputs": [],
   "source": [
    "#匹配受孕结果和产科数据表"
   ]
  },
  {
   "cell_type": "code",
   "execution_count": 2529,
   "metadata": {},
   "outputs": [],
   "source": [
    "#更改列名称 方便之后匹配\n",
    "df4_pro = df4.rename(columns={'姓名':'女方姓名','出生年月':'女方生日'})"
   ]
  },
  {
   "cell_type": "code",
   "execution_count": 2542,
   "metadata": {},
   "outputs": [],
   "source": [
    "#以女方姓名和女方生日为键，匹配合并\n",
    "df_labor = df4_pro.merge(df_preg, on=['女方姓名','女方生日'], how='inner')"
   ]
  },
  {
   "cell_type": "code",
   "execution_count": 2543,
   "metadata": {},
   "outputs": [],
   "source": [
    "#添加出生-移植时间差，用作比较\n",
    "df_labor['出生时间-移植日期'] = df_labor['出生时间1'] - df_labor['移植日期']"
   ]
  },
  {
   "cell_type": "code",
   "execution_count": 2544,
   "metadata": {},
   "outputs": [],
   "source": [
    "#换算孕周为天数\n",
    "df_labor['孕周'] = df_labor['孕周'].apply(lambda x: int(x) * 7 + x % 1 *10)\n",
    "df_labor['孕周'] = df_labor['孕周'].apply(lambda x: pd.Timedelta(x, unit='d'))"
   ]
  },
  {
   "cell_type": "code",
   "execution_count": 2710,
   "metadata": {
    "scrolled": true
   },
   "outputs": [],
   "source": [
    "#筛选后的结果\n",
    "df_labor_fil = df_labor[(df_labor['取卵周期'].str.contains('第1周期|第2周期|第3周期')) \\\n",
    "        & ((df_labor['取卵日期'] - df_labor['女方生日']) <= pd.Timedelta(35*365, 'd')) \\\n",
    "        & (df_labor['诊断_y'].str.contains('染色体异常|PCOS|排卵障碍|子宫内膜异位症') == False) \\\n",
    "        & ((df_labor['授精方式']=='ICSI,') | (df_labor['授精方式']=='IVF,'))\n",
    "        & (df_labor['形态正常'].notna())\\\n",
    "        & (df_labor['孕育史'].str.contains('[0-9]-[0-9]-[3-9]-[0-9]|[0-9]-[0-9]-1[0-9]-[0-9]') == False)\\\n",
    "        & (df_labor['获卵'] <= 30)\\\n",
    "        & (df_labor['孕周'] > df_labor['出生时间-移植日期'])]"
   ]
  },
  {
   "cell_type": "code",
   "execution_count": 2716,
   "metadata": {},
   "outputs": [
    {
     "data": {
      "text/plain": [
       "(299, 121)"
      ]
     },
     "execution_count": 2716,
     "metadata": {},
     "output_type": "execute_result"
    }
   ],
   "source": [
    "df_labor_fil.shape"
   ]
  },
  {
   "cell_type": "code",
   "execution_count": 2720,
   "metadata": {},
   "outputs": [],
   "source": [
    "#save to csv\n",
    "df_fert_fil.to_csv('fert_fil.csv', index=False, encoding='ANSI')\n",
    "df_preg_fil.to_csv('preg_fil.csv', index=False, encoding='ANSI')\n",
    "df_labor_fil.to_csv('labor_fil.csv', index=False, encoding='ANSI')"
   ]
  },
  {
   "cell_type": "code",
   "execution_count": null,
   "metadata": {
    "collapsed": true
   },
   "outputs": [],
   "source": []
  }
 ],
 "metadata": {
  "kernelspec": {
   "display_name": "Python 3",
   "language": "python",
   "name": "python3"
  },
  "language_info": {
   "codemirror_mode": {
    "name": "ipython",
    "version": 3
   },
   "file_extension": ".py",
   "mimetype": "text/x-python",
   "name": "python",
   "nbconvert_exporter": "python",
   "pygments_lexer": "ipython3",
   "version": "3.7.1"
  }
 },
 "nbformat": 4,
 "nbformat_minor": 2
}
